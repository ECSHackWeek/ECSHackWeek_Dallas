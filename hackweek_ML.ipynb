{
 "cells": [
  {
   "cell_type": "markdown",
   "metadata": {},
   "source": [
    "## Introduction"
   ]
  },
  {
   "cell_type": "markdown",
   "metadata": {},
   "source": [
    "So, you want to do some machine learning?\n",
    "\n",
    "To the beginner, machine learning carries a certain mystique to it. I personally thought it had to be on the level of VIKI from \"I, Robot\":"
   ]
  },
  {
   "cell_type": "markdown",
   "metadata": {},
   "source": [
    "![alt text](VIKI.jpg \"Title\")"
   ]
  },
  {
   "cell_type": "markdown",
   "metadata": {},
   "source": [
    "You come off with the impression that machine learning can pretty much solve any problem you throw at it. \n",
    "\n",
    "But machine learning isn't dark magic, and once you understand the scope of what is considered machine learning, you can start to think of the kinds of problems you may be able to take a stab at with a machine learning technique."
   ]
  },
  {
   "cell_type": "markdown",
   "metadata": {},
   "source": [
    "This workshop won't be all encompassing -- for that we would need an entire course or two. But we will give you enough theory to get you on your feet, and enough practical experience to try your hand at a machine learning problem with the package `scikit-learn`"
   ]
  },
  {
   "cell_type": "markdown",
   "metadata": {},
   "source": [
    "## Supervised learning"
   ]
  },
  {
   "cell_type": "markdown",
   "metadata": {},
   "source": [
    "For the purposes of this workshop, we are going to focus on a subset of machine learning techniques known as supervised learning.\n",
    "\n",
    "At the very core of machine learning is relating a series of inputs <b>Y</b> to an output variable <b>X</b>. The relationship between <b>X</b> (also called the predictors) and <b>Y</b> (also called the response variable) can be expressed as:"
   ]
  },
  {
   "cell_type": "markdown",
   "metadata": {},
   "source": [
    "<center><i>Y = f(X) + $\\epsilon$</i></center>"
   ]
  },
  {
   "cell_type": "markdown",
   "metadata": {},
   "source": [
    "Machine learning is essentially coming up with a model for <i>f</i>:"
   ]
  },
  {
   "cell_type": "markdown",
   "metadata": {},
   "source": [
    "<center><i>$\\hat{Y}$ = $\\hat{f}$(X)</i></center>"
   ]
  },
  {
   "cell_type": "markdown",
   "metadata": {},
   "source": [
    "In some cases, we aren't interested in the form of <i>$\\hat{f}$(X)</i> at all: we just want to obtain accurate estimates of new <i>Y</i> values given a set of <i>X</i> values. If <i>$\\hat{f}$(X)</i> were a black box and we didn't know exactly what was going on inside, we wouldn't mind too much. This is called **prediction**.\n",
    "\n",
    "In other cases, we are more interested in the form of <i>$\\hat{f}$(X)</i> itself: we want to know how changes in <i>X</i> affect the output <i>Y</i>. In this case, a black box isn't ideal, and we may be willing to sacrifice accuracy in output <i>Y</i> values if we still get a general behavior in the relationship between <i>X</i> and <i>Y</i>. This is called **inference**."
   ]
  },
  {
   "cell_type": "markdown",
   "metadata": {},
   "source": [
    "At this point, you may be wondering... wait, wait wait. This all seems too familiar. Isn't this just linear regression? I've done problems like this before! And yes, you would be right.\n",
    "\n",
    "When you hear machine learning, just think \"fancy statistics.\""
   ]
  },
  {
   "cell_type": "markdown",
   "metadata": {},
   "source": [
    "<img src=\"fancy_statistics.jpg\" alt=\"Drawing\" style=\"width: 300px;\"/>"
   ]
  },
  {
   "cell_type": "code",
   "execution_count": null,
   "metadata": {},
   "outputs": [],
   "source": [
    "fdsdf"
   ]
  },
  {
   "cell_type": "markdown",
   "metadata": {},
   "source": [
    "## Tour of scikit-learn"
   ]
  },
  {
   "cell_type": "code",
   "execution_count": null,
   "metadata": {},
   "outputs": [],
   "source": []
  },
  {
   "cell_type": "code",
   "execution_count": null,
   "metadata": {},
   "outputs": [],
   "source": []
  },
  {
   "cell_type": "code",
   "execution_count": null,
   "metadata": {},
   "outputs": [],
   "source": []
  },
  {
   "cell_type": "code",
   "execution_count": null,
   "metadata": {},
   "outputs": [],
   "source": []
  },
  {
   "cell_type": "markdown",
   "metadata": {},
   "source": [
    "## Regression"
   ]
  },
  {
   "cell_type": "code",
   "execution_count": null,
   "metadata": {},
   "outputs": [],
   "source": []
  },
  {
   "cell_type": "code",
   "execution_count": null,
   "metadata": {},
   "outputs": [],
   "source": []
  },
  {
   "cell_type": "code",
   "execution_count": null,
   "metadata": {},
   "outputs": [],
   "source": []
  },
  {
   "cell_type": "code",
   "execution_count": null,
   "metadata": {},
   "outputs": [],
   "source": []
  },
  {
   "cell_type": "markdown",
   "metadata": {},
   "source": [
    "## Classification"
   ]
  },
  {
   "cell_type": "code",
   "execution_count": null,
   "metadata": {},
   "outputs": [],
   "source": []
  }
 ],
 "metadata": {
  "kernelspec": {
   "display_name": "Python 3",
   "language": "python",
   "name": "python3"
  },
  "language_info": {
   "codemirror_mode": {
    "name": "ipython",
    "version": 3
   },
   "file_extension": ".py",
   "mimetype": "text/x-python",
   "name": "python",
   "nbconvert_exporter": "python",
   "pygments_lexer": "ipython3",
   "version": "3.7.0"
  }
 },
 "nbformat": 4,
 "nbformat_minor": 2
}
