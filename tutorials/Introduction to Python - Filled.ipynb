{
 "cells": [
  {
   "cell_type": "markdown",
   "metadata": {},
   "source": [
    "# Introduction to Python through Jupyter Lab (Filled In)"
   ]
  },
  {
   "cell_type": "markdown",
   "metadata": {},
   "source": [
    "Welcome to  your Jupyter notebook!\n",
    "\n",
    "![alt text](https://www.python.org/static/community_logos/python-logo-generic.svg)\n"
   ]
  },
  {
   "cell_type": "markdown",
   "metadata": {},
   "source": [
    "#### Structure of how a Jupyter Notebook works\n",
    "\n",
    "![alt text](https://jupyter.org/assets/main-logo.svg)\n",
    "\n",
    "* Jupyter notebooks run one cell at a line, and if you hit \"run all\", it will be sequential\n",
    "* There are two cell types\n",
    "    * code cells\n",
    "    * markdown cells\n",
    "* Lines can be commented out in code cells using #\n",
    "    * Adding comments into code cells helps you remember what you're doing!\n",
    "* To start clean, or if something goes awry, simply restart your kernel"
   ]
  },
  {
   "cell_type": "markdown",
   "metadata": {},
   "source": [
    "| Keyboard Shortcut | Action|\n",
    "| --- | ---|\n",
    "| a | insert cell above |\n",
    "| b | insert cell below |\n",
    "| l | shows lines of code in a cell |\n",
    "| m | changes cell to a markdown cell |\n",
    "| y | changes cell to a code cell |\n",
    "| esc | exits cell |\n",
    "| dd or x | delete cell |\n",
    "| z | undelete cell |\n",
    "| h | list of stortcuts |\n",
    "| shift + enter | runs cell |\n",
    "| tab | indent |\n",
    "| shift + tab | remove an indent|\n",
    "| highlight, ctrl + / | comment sections out |"
   ]
  },
  {
   "cell_type": "markdown",
   "metadata": {},
   "source": [
    "Try out some of these shortcuts to get the hang of it!"
   ]
  },
  {
   "cell_type": "code",
   "execution_count": null,
   "metadata": {},
   "outputs": [],
   "source": []
  },
  {
   "cell_type": "code",
   "execution_count": null,
   "metadata": {},
   "outputs": [],
   "source": []
  },
  {
   "cell_type": "markdown",
   "metadata": {},
   "source": [
    "#### Different structures in Python"
   ]
  },
  {
   "cell_type": "markdown",
   "metadata": {},
   "source": [
    "Numbers vs Strings\n",
    "\n",
    "Numbers come in multiple forms, the most common ones you'll encounter are floats and integers. \n",
    "* Integers: Whole numbers\n",
    "* Floats: Have decimal points \n",
    "    * 3 vs 3.0\n",
    "\n",
    "Strings are essentially just text. We can choose to use strings by putting something in '' or \"\".\n",
    "* Either options work, but if you are printing a statement with a contraction (i.e. it's), then you can use \"\" for clarity"
   ]
  },
  {
   "cell_type": "markdown",
   "metadata": {},
   "source": [
    "Jupyter notebooks will show you only the last command if it's not assigned to a variable."
   ]
  },
  {
   "cell_type": "code",
   "execution_count": 1,
   "metadata": {},
   "outputs": [
    {
     "data": {
      "text/plain": [
       "8"
      ]
     },
     "execution_count": 1,
     "metadata": {},
     "output_type": "execute_result"
    }
   ],
   "source": [
    "4\n",
    "8"
   ]
  },
  {
   "cell_type": "markdown",
   "metadata": {},
   "source": [
    "However, we can use print() to read more things. This can be useful in future coding, when you want to present more than one result out of the same cell."
   ]
  },
  {
   "cell_type": "code",
   "execution_count": 2,
   "metadata": {},
   "outputs": [
    {
     "name": "stdout",
     "output_type": "stream",
     "text": [
      "4\n",
      "8\n"
     ]
    }
   ],
   "source": [
    "print(4)\n",
    "print(8)"
   ]
  },
  {
   "cell_type": "markdown",
   "metadata": {},
   "source": [
    "We can check what type of data structure something is pretty easily."
   ]
  },
  {
   "cell_type": "code",
   "execution_count": 1,
   "metadata": {},
   "outputs": [
    {
     "name": "stdout",
     "output_type": "stream",
     "text": [
      "<class 'int'>\n",
      "<class 'float'>\n",
      "<class 'str'>\n",
      "<class 'str'>\n",
      " \n",
      "Now, in all one line\n",
      "<class 'int'> <class 'float'> <class 'str'>\n"
     ]
    }
   ],
   "source": [
    "print(type(3))\n",
    "print(type(3.0))\n",
    "print(type('3'))\n",
    "print(type(str(3.0)))\n",
    "print(' ')\n",
    "print('Now, in all one line')\n",
    "print(type(3), type(3.0), type('3'))"
   ]
  },
  {
   "cell_type": "markdown",
   "metadata": {},
   "source": [
    "Python can also perform basic math operations"
   ]
  },
  {
   "cell_type": "code",
   "execution_count": 4,
   "metadata": {},
   "outputs": [
    {
     "data": {
      "text/plain": [
       "8"
      ]
     },
     "execution_count": 4,
     "metadata": {},
     "output_type": "execute_result"
    }
   ],
   "source": [
    "4 + 4"
   ]
  },
  {
   "cell_type": "code",
   "execution_count": 5,
   "metadata": {},
   "outputs": [
    {
     "data": {
      "text/plain": [
       "8.0"
      ]
     },
     "execution_count": 5,
     "metadata": {},
     "output_type": "execute_result"
    }
   ],
   "source": [
    "4.0 + 4"
   ]
  },
  {
   "cell_type": "code",
   "execution_count": 55,
   "metadata": {},
   "outputs": [
    {
     "data": {
      "text/plain": [
       "int"
      ]
     },
     "execution_count": 55,
     "metadata": {},
     "output_type": "execute_result"
    }
   ],
   "source": [
    "# Multiplying an integer by integer returns an integer\n",
    "\n",
    "type(4 + 4)"
   ]
  },
  {
   "cell_type": "code",
   "execution_count": 56,
   "metadata": {},
   "outputs": [
    {
     "data": {
      "text/plain": [
       "float"
      ]
     },
     "execution_count": 56,
     "metadata": {},
     "output_type": "execute_result"
    }
   ],
   "source": [
    "# Multiplying a float by an integer returns a float\n",
    "\n",
    "type(4.0 + 4)"
   ]
  },
  {
   "cell_type": "code",
   "execution_count": 8,
   "metadata": {},
   "outputs": [
    {
     "data": {
      "text/plain": [
       "16"
      ]
     },
     "execution_count": 8,
     "metadata": {},
     "output_type": "execute_result"
    }
   ],
   "source": [
    "4 * 4"
   ]
  },
  {
   "cell_type": "code",
   "execution_count": 9,
   "metadata": {},
   "outputs": [
    {
     "data": {
      "text/plain": [
       "1.0"
      ]
     },
     "execution_count": 9,
     "metadata": {},
     "output_type": "execute_result"
    }
   ],
   "source": [
    "4 / 4"
   ]
  },
  {
   "cell_type": "code",
   "execution_count": 10,
   "metadata": {},
   "outputs": [
    {
     "data": {
      "text/plain": [
       "256"
      ]
     },
     "execution_count": 10,
     "metadata": {},
     "output_type": "execute_result"
    }
   ],
   "source": [
    "4 ** 4"
   ]
  },
  {
   "cell_type": "code",
   "execution_count": 12,
   "metadata": {},
   "outputs": [
    {
     "data": {
      "text/plain": [
       "1.6666666666666667"
      ]
     },
     "execution_count": 12,
     "metadata": {},
     "output_type": "execute_result"
    }
   ],
   "source": [
    "# integer division?\n",
    "\n",
    "5/3"
   ]
  },
  {
   "cell_type": "code",
   "execution_count": 13,
   "metadata": {},
   "outputs": [
    {
     "data": {
      "text/plain": [
       "1"
      ]
     },
     "execution_count": 13,
     "metadata": {},
     "output_type": "execute_result"
    }
   ],
   "source": [
    "5//3"
   ]
  },
  {
   "cell_type": "code",
   "execution_count": 15,
   "metadata": {},
   "outputs": [
    {
     "data": {
      "text/plain": [
       "1"
      ]
     },
     "execution_count": 15,
     "metadata": {},
     "output_type": "execute_result"
    }
   ],
   "source": [
    "int(5/3)"
   ]
  },
  {
   "cell_type": "code",
   "execution_count": 5,
   "metadata": {},
   "outputs": [
    {
     "ename": "SyntaxError",
     "evalue": "invalid syntax (<ipython-input-5-adc0cc91a742>, line 3)",
     "output_type": "error",
     "traceback": [
      "\u001b[1;36m  File \u001b[1;32m\"<ipython-input-5-adc0cc91a742>\"\u001b[1;36m, line \u001b[1;32m3\u001b[0m\n\u001b[1;33m    string_1 = 'It's going to be a great day\u001b[0m\n\u001b[1;37m                   ^\u001b[0m\n\u001b[1;31mSyntaxError\u001b[0m\u001b[1;31m:\u001b[0m invalid syntax\n"
     ]
    }
   ],
   "source": [
    "# Strings\n",
    "\n",
    "string_1 = 'It's going to be a great day"
   ]
  },
  {
   "cell_type": "code",
   "execution_count": 52,
   "metadata": {},
   "outputs": [
    {
     "name": "stdout",
     "output_type": "stream",
     "text": [
      "It's going to be a great day\n"
     ]
    }
   ],
   "source": [
    "string_1 = \"It's going to be a great day\"\n",
    "string_2 = \"what a wonderful day\"\n",
    "\n",
    "print(string_1)"
   ]
  },
  {
   "cell_type": "code",
   "execution_count": 53,
   "metadata": {},
   "outputs": [
    {
     "data": {
      "text/plain": [
       "'I'"
      ]
     },
     "execution_count": 53,
     "metadata": {},
     "output_type": "execute_result"
    }
   ],
   "source": [
    "# Strings are also iterable\n",
    "# We will go over more of these brackets later, but essentially, it's a way to get a certain entry\n",
    "# Python indexing starts at 0\n",
    "\n",
    "string_1[0]"
   ]
  },
  {
   "cell_type": "code",
   "execution_count": 57,
   "metadata": {},
   "outputs": [
    {
     "data": {
      "text/plain": [
       "False"
      ]
     },
     "execution_count": 57,
     "metadata": {},
     "output_type": "execute_result"
    }
   ],
   "source": [
    "# Something handy is to see if an entry is in your list using 'in'\n",
    "\n",
    "\"it's\" in string_1"
   ]
  },
  {
   "cell_type": "code",
   "execution_count": 20,
   "metadata": {},
   "outputs": [
    {
     "data": {
      "text/plain": [
       "\"it's going to be a great day\""
      ]
     },
     "execution_count": 20,
     "metadata": {},
     "output_type": "execute_result"
    }
   ],
   "source": [
    "# If you tab after string_1. , you'll see a list of functions that can be applied to the string and shift tab\n",
    "\n",
    "string_1.lower()"
   ]
  },
  {
   "cell_type": "code",
   "execution_count": 56,
   "metadata": {},
   "outputs": [
    {
     "data": {
      "text/plain": [
       "True"
      ]
     },
     "execution_count": 56,
     "metadata": {},
     "output_type": "execute_result"
    }
   ],
   "source": [
    "\"it's\" in string_1.lower()"
   ]
  },
  {
   "cell_type": "code",
   "execution_count": 19,
   "metadata": {},
   "outputs": [
    {
     "data": {
      "text/plain": [
       "\"IT'S GOING TO BE A GREAT DAY\""
      ]
     },
     "execution_count": 19,
     "metadata": {},
     "output_type": "execute_result"
    }
   ],
   "source": [
    "string_1.upper()"
   ]
  },
  {
   "cell_type": "code",
   "execution_count": 18,
   "metadata": {},
   "outputs": [
    {
     "data": {
      "text/plain": [
       "'What a wonderful day'"
      ]
     },
     "execution_count": 18,
     "metadata": {},
     "output_type": "execute_result"
    }
   ],
   "source": [
    "string_2.capitalize()"
   ]
  },
  {
   "cell_type": "markdown",
   "metadata": {},
   "source": [
    "#### Variable Assignment\n",
    "\n",
    "We can also assign any data structure to specific variables too. Some things to consider\n",
    "* Variables are case-sensitive\n",
    "* Cannot accommodate spaces\n",
    "* Try to avoid capital letters\n",
    "* Avoid cAmElCaSe"
   ]
  },
  {
   "cell_type": "code",
   "execution_count": 13,
   "metadata": {},
   "outputs": [],
   "source": [
    "a = 4"
   ]
  },
  {
   "cell_type": "code",
   "execution_count": 14,
   "metadata": {},
   "outputs": [
    {
     "name": "stdout",
     "output_type": "stream",
     "text": [
      "4\n"
     ]
    }
   ],
   "source": [
    "print(a)"
   ]
  },
  {
   "cell_type": "code",
   "execution_count": 15,
   "metadata": {},
   "outputs": [
    {
     "ename": "NameError",
     "evalue": "name 'A' is not defined",
     "output_type": "error",
     "traceback": [
      "\u001b[1;31m---------------------------------------------------------------------------\u001b[0m",
      "\u001b[1;31mNameError\u001b[0m                                 Traceback (most recent call last)",
      "\u001b[1;32m<ipython-input-15-939330b76721>\u001b[0m in \u001b[0;36m<module>\u001b[1;34m()\u001b[0m\n\u001b[1;32m----> 1\u001b[1;33m \u001b[0mprint\u001b[0m\u001b[1;33m(\u001b[0m\u001b[0mA\u001b[0m\u001b[1;33m)\u001b[0m\u001b[1;33m\u001b[0m\u001b[0m\n\u001b[0m",
      "\u001b[1;31mNameError\u001b[0m: name 'A' is not defined"
     ]
    }
   ],
   "source": [
    "print(A)"
   ]
  },
  {
   "cell_type": "code",
   "execution_count": 16,
   "metadata": {},
   "outputs": [
    {
     "name": "stdout",
     "output_type": "stream",
     "text": [
      "4.0\n"
     ]
    }
   ],
   "source": [
    "A = 4.0\n",
    "print(A)"
   ]
  },
  {
   "cell_type": "code",
   "execution_count": 17,
   "metadata": {},
   "outputs": [
    {
     "ename": "SyntaxError",
     "evalue": "invalid syntax (<ipython-input-17-5c9573477cfe>, line 1)",
     "output_type": "error",
     "traceback": [
      "\u001b[1;36m  File \u001b[1;32m\"<ipython-input-17-5c9573477cfe>\"\u001b[1;36m, line \u001b[1;32m1\u001b[0m\n\u001b[1;33m    variable x = 1\u001b[0m\n\u001b[1;37m             ^\u001b[0m\n\u001b[1;31mSyntaxError\u001b[0m\u001b[1;31m:\u001b[0m invalid syntax\n"
     ]
    }
   ],
   "source": [
    "variable x = 1"
   ]
  },
  {
   "cell_type": "code",
   "execution_count": 18,
   "metadata": {},
   "outputs": [],
   "source": [
    "variable_x = 1"
   ]
  },
  {
   "cell_type": "markdown",
   "metadata": {},
   "source": [
    "#### Basic Data Structures\n",
    "* The three major data structures that we will be going over\n",
    "\n",
    "| word | definition |\n",
    "|------|------------|\n",
    "| list | A mutable collection of ordered objects |\n",
    "| tuple | An immutable collection of ordered objects |\n",
    "| dictionary | A mutable collection of named objects |\n"
   ]
  },
  {
   "cell_type": "markdown",
   "metadata": {},
   "source": [
    "#### List Comprehension\n",
    "\n",
    "Lists are ordered data structures, meaning that the placement or index is important. Lists can hold multiple different types of data structures, and are also mutable, meaning that they can be changed. You can also splice through lists"
   ]
  },
  {
   "cell_type": "code",
   "execution_count": 21,
   "metadata": {},
   "outputs": [
    {
     "data": {
      "text/plain": [
       "[0, 1, 2, 3]"
      ]
     },
     "execution_count": 21,
     "metadata": {},
     "output_type": "execute_result"
    }
   ],
   "source": [
    "# Lists are made using brackets\n",
    "\n",
    "list_1 = [0, 1, 2, 3]\n",
    "\n",
    "# Use tab completion\n",
    "list_1"
   ]
  },
  {
   "cell_type": "code",
   "execution_count": 17,
   "metadata": {},
   "outputs": [],
   "source": [
    "# Lists can also contain any type of data structures, whether it's numbers, strings, MORE lists, etc."
   ]
  },
  {
   "cell_type": "code",
   "execution_count": 20,
   "metadata": {},
   "outputs": [
    {
     "data": {
      "text/plain": [
       "['one', 'two', 'three']"
      ]
     },
     "execution_count": 20,
     "metadata": {},
     "output_type": "execute_result"
    }
   ],
   "source": [
    "list_2 = ['one', 'two', 'three']\n",
    "\n",
    "# Use tab completion again\n",
    "list_2"
   ]
  },
  {
   "cell_type": "code",
   "execution_count": 2,
   "metadata": {},
   "outputs": [],
   "source": [
    "list_3 = ['one', [1, 2, 3], 'three', 'four', 'five', 'six']"
   ]
  },
  {
   "cell_type": "code",
   "execution_count": 4,
   "metadata": {},
   "outputs": [
    {
     "ename": "IndexError",
     "evalue": "list index out of range",
     "output_type": "error",
     "traceback": [
      "\u001b[1;31m---------------------------------------------------------------------------\u001b[0m",
      "\u001b[1;31mIndexError\u001b[0m                                Traceback (most recent call last)",
      "\u001b[1;32m<ipython-input-4-0925e3c2ffee>\u001b[0m in \u001b[0;36m<module>\u001b[1;34m()\u001b[0m\n\u001b[0;32m      2\u001b[0m \u001b[1;31m# Indexing for Python starts at 0\u001b[0m\u001b[1;33m\u001b[0m\u001b[1;33m\u001b[0m\u001b[0m\n\u001b[0;32m      3\u001b[0m \u001b[1;33m\u001b[0m\u001b[0m\n\u001b[1;32m----> 4\u001b[1;33m \u001b[0mlist_3\u001b[0m\u001b[1;33m[\u001b[0m\u001b[1;36m7\u001b[0m\u001b[1;33m]\u001b[0m\u001b[1;33m\u001b[0m\u001b[0m\n\u001b[0m",
      "\u001b[1;31mIndexError\u001b[0m: list index out of range"
     ]
    }
   ],
   "source": [
    "# We can also look at specific entries within a list.\n",
    "# Indexing for Python starts at 0\n",
    "\n",
    "list_3[7] # talk about stackoverflow?"
   ]
  },
  {
   "cell_type": "code",
   "execution_count": 23,
   "metadata": {},
   "outputs": [
    {
     "data": {
      "text/plain": [
       "['one', 'two', 'three', 'four', 'five', 'six']"
      ]
     },
     "execution_count": 23,
     "metadata": {},
     "output_type": "execute_result"
    }
   ],
   "source": [
    "# Remember, lists are mutable, so we can change an entry to be something else\n",
    "\n",
    "list_3[1] = 'two'\n",
    "\n",
    "list_3"
   ]
  },
  {
   "cell_type": "code",
   "execution_count": 24,
   "metadata": {},
   "outputs": [
    {
     "name": "stdout",
     "output_type": "stream",
     "text": [
      "['one', 'two', 'three']\n",
      "['three', 'four']\n",
      "['one', 'two']\n",
      "['three', 'four', 'five', 'six']\n",
      "['one', 'three', 'five']\n"
     ]
    }
   ],
   "source": [
    "# We can also splice lists into different segments\n",
    "# When splicing [start:stop:step]. If you don't have a start or stop, it will start right at the beginning or stop at the end of the list, respectively\n",
    "# Start is inclusive, but stop is exclusive\n",
    "\n",
    "print(list_3[0:3]) \n",
    "print(list_3[2:4])\n",
    "\n",
    "print(list_3[:2])\n",
    "print(list_3[2:])\n",
    "print(list_3[::2])"
   ]
  },
  {
   "cell_type": "code",
   "execution_count": 25,
   "metadata": {},
   "outputs": [
    {
     "name": "stdout",
     "output_type": "stream",
     "text": [
      "['six', 'five', 'four', 'three', 'two', 'one']\n"
     ]
    }
   ],
   "source": [
    "# You can also go backwards, using -1\n",
    "\n",
    "print(list_3[::-1])"
   ]
  },
  {
   "cell_type": "code",
   "execution_count": 26,
   "metadata": {},
   "outputs": [
    {
     "data": {
      "text/plain": [
       "<function list.reverse()>"
      ]
     },
     "execution_count": 26,
     "metadata": {},
     "output_type": "execute_result"
    }
   ],
   "source": [
    "# We can also apply methods to lists\n",
    "# Most of these methods are functions, and require you using () at the end of the method if you want to use it.\n",
    "\n",
    "list_3.reverse"
   ]
  },
  {
   "cell_type": "code",
   "execution_count": 27,
   "metadata": {},
   "outputs": [
    {
     "name": "stdout",
     "output_type": "stream",
     "text": [
      "['six', 'five', 'four', 'three', 'two', 'one']\n"
     ]
    }
   ],
   "source": [
    "list_3.reverse()\n",
    "print(list_3)"
   ]
  },
  {
   "cell_type": "code",
   "execution_count": 28,
   "metadata": {},
   "outputs": [
    {
     "data": {
      "text/plain": [
       "['six', 'five', 'four', 'three', 'two', 'one', 'four']"
      ]
     },
     "execution_count": 28,
     "metadata": {},
     "output_type": "execute_result"
    }
   ],
   "source": [
    "# For example, we can append, or add something onto a list\n",
    "\n",
    "list_3.append('four')\n",
    "\n",
    "list_3"
   ]
  },
  {
   "cell_type": "code",
   "execution_count": 30,
   "metadata": {},
   "outputs": [
    {
     "data": {
      "text/plain": [
       "7"
      ]
     },
     "execution_count": 30,
     "metadata": {},
     "output_type": "execute_result"
    }
   ],
   "source": [
    "# I can also check how long a list is using len()\n",
    "\n",
    "len(list_3) # This can be useful later on when we get into flow control and for/while loops"
   ]
  },
  {
   "cell_type": "code",
   "execution_count": 24,
   "metadata": {},
   "outputs": [
    {
     "data": {
      "text/plain": [
       "[0, 1, 2, 3, 4, 5, 6, 7, 8, 9, 10]"
      ]
     },
     "execution_count": 24,
     "metadata": {},
     "output_type": "execute_result"
    }
   ],
   "source": [
    "# Something also handy is range(), which can be made into a list\n",
    "# range(start, stop, step) where stop is exclusive\n",
    "\n",
    "list_4 = list(range(0,11,1))\n",
    "list_4"
   ]
  },
  {
   "cell_type": "code",
   "execution_count": 3,
   "metadata": {},
   "outputs": [
    {
     "name": "stdout",
     "output_type": "stream",
     "text": [
      "Hello, I'm a sample string!\n",
      "['Hello,', \"I'm\", 'a', 'sample', 'string!']\n"
     ]
    }
   ],
   "source": [
    "# You can also use a string.split('') to separate a components of a string into a string\n",
    "\n",
    "sample_string = \"Hello, I'm a sample string!\"\n",
    "\n",
    "print(sample_string)\n",
    "print(sample_string.split(' '))"
   ]
  },
  {
   "cell_type": "markdown",
   "metadata": {},
   "source": [
    "There are other useful methods on lists, including:\n",
    "\n",
    "| methods  |  description  |\n",
    "|---|---|\n",
    "| list.append(obj)  | Appends object obj to list  |\n",
    "| list.count(obj)| Returns count of how many times obj occurs in list  |\n",
    "| list.extend(seq)  | Appends the contents of seq to list  |\n",
    "| list.index(obj)  | Returns the lowest index in list that obj appears  |\n",
    "| list.insert(index, obj)  | Inserts object obj into list at offset index  |\n",
    "| list.pop(obj=list[-1])  | Removes and returns last object or obj from list  |\n",
    "| list.remove(obj)  | Removes object obj from list  |\n",
    "| list.reverse()  |  Reverses objects of list in place |\n",
    "| list.sort([func])  | Sort objects of list, use compare func, if given  |\n"
   ]
  },
  {
   "cell_type": "markdown",
   "metadata": {},
   "source": [
    "Here is a list for you to play with. Try out some of these methods, and just get the hang of using some lists!"
   ]
  },
  {
   "cell_type": "markdown",
   "metadata": {},
   "source": [
    "#### Tuples Comprehension"
   ]
  },
  {
   "cell_type": "code",
   "execution_count": 31,
   "metadata": {},
   "outputs": [],
   "source": [
    "t = (1, 2, 3)"
   ]
  },
  {
   "cell_type": "code",
   "execution_count": 32,
   "metadata": {},
   "outputs": [
    {
     "data": {
      "text/plain": [
       "tuple"
      ]
     },
     "execution_count": 32,
     "metadata": {},
     "output_type": "execute_result"
    }
   ],
   "source": [
    "type(t)"
   ]
  },
  {
   "cell_type": "code",
   "execution_count": 33,
   "metadata": {},
   "outputs": [
    {
     "data": {
      "text/plain": [
       "3"
      ]
     },
     "execution_count": 33,
     "metadata": {},
     "output_type": "execute_result"
    }
   ],
   "source": [
    "len(t)"
   ]
  },
  {
   "cell_type": "code",
   "execution_count": 34,
   "metadata": {},
   "outputs": [
    {
     "data": {
      "text/plain": [
       "1"
      ]
     },
     "execution_count": 34,
     "metadata": {},
     "output_type": "execute_result"
    }
   ],
   "source": [
    "t[0]"
   ]
  },
  {
   "cell_type": "code",
   "execution_count": 4,
   "metadata": {},
   "outputs": [
    {
     "ename": "NameError",
     "evalue": "name 't' is not defined",
     "output_type": "error",
     "traceback": [
      "\u001b[1;31m---------------------------------------------------------------------------\u001b[0m",
      "\u001b[1;31mNameError\u001b[0m                                 Traceback (most recent call last)",
      "\u001b[1;32m<ipython-input-4-d26f31937ffb>\u001b[0m in \u001b[0;36m<module>\u001b[1;34m()\u001b[0m\n\u001b[1;32m----> 1\u001b[1;33m \u001b[0ma\u001b[0m\u001b[1;33m,\u001b[0m \u001b[0mb\u001b[0m\u001b[1;33m,\u001b[0m \u001b[0mc\u001b[0m \u001b[1;33m=\u001b[0m \u001b[0mt\u001b[0m\u001b[1;33m\u001b[0m\u001b[0m\n\u001b[0m",
      "\u001b[1;31mNameError\u001b[0m: name 't' is not defined"
     ]
    }
   ],
   "source": [
    "a, b, c = t"
   ]
  },
  {
   "cell_type": "code",
   "execution_count": 36,
   "metadata": {},
   "outputs": [
    {
     "data": {
      "text/plain": [
       "[1, 2, 3]"
      ]
     },
     "execution_count": 36,
     "metadata": {},
     "output_type": "execute_result"
    }
   ],
   "source": [
    "# If for some reason you do need to make a change to a tuple, there's always lists!\n",
    "\n",
    "list(t)"
   ]
  },
  {
   "cell_type": "markdown",
   "metadata": {},
   "source": [
    "#### Dictionary Comprehesion\n",
    "\n",
    "A dictionary is another type of storage, which is unordered and based off `keys` and `values` , and these are made using curly brackets {}. Each `value` must be assigned to a `key`"
   ]
  },
  {
   "cell_type": "code",
   "execution_count": 37,
   "metadata": {},
   "outputs": [],
   "source": [
    "d = {'key1': 'item1', 'key2' : 'item2', 'key3' : 'item3'}"
   ]
  },
  {
   "cell_type": "code",
   "execution_count": 38,
   "metadata": {},
   "outputs": [
    {
     "data": {
      "text/plain": [
       "'item1'"
      ]
     },
     "execution_count": 38,
     "metadata": {},
     "output_type": "execute_result"
    }
   ],
   "source": [
    "# Because dictionaries are not ordered, entries are accessed by pulling up the keys\n",
    "\n",
    "d['key1']"
   ]
  },
  {
   "cell_type": "code",
   "execution_count": 39,
   "metadata": {},
   "outputs": [
    {
     "data": {
      "text/plain": [
       "100"
      ]
     },
     "execution_count": 39,
     "metadata": {},
     "output_type": "execute_result"
    }
   ],
   "source": [
    "# Keys don't have to be just strings, they can also be numbered values\n",
    "\n",
    "d2 = {1: 100, 2: 200, 3:300}\n",
    "\n",
    "d2[1]"
   ]
  },
  {
   "cell_type": "code",
   "execution_count": 40,
   "metadata": {},
   "outputs": [],
   "source": [
    "# You can also embed other data structures into dictionaries as well"
   ]
  },
  {
   "cell_type": "code",
   "execution_count": 41,
   "metadata": {},
   "outputs": [],
   "source": [
    "d3 = {'list': [1,2,3], 'tuple': (4, 5), 'dictionary': {'key1': 'item1', 'key2': 'item2', 'key3' : 'item3'}}"
   ]
  },
  {
   "cell_type": "code",
   "execution_count": 42,
   "metadata": {},
   "outputs": [
    {
     "name": "stdout",
     "output_type": "stream",
     "text": [
      "{'list': [1, 2, 3], 'tuple': (4, 5), 'dictionary': {'key1': 'item1', 'key2': 'item2', 'key3': 'item3'}}\n",
      "\n",
      "\n",
      "[1, 2, 3]\n",
      "(4, 5)\n",
      "{'key1': 'item1', 'key2': 'item2', 'key3': 'item3'}\n"
     ]
    }
   ],
   "source": [
    "print(d3)\n",
    "print('\\n')\n",
    "print(d3['list'])\n",
    "print(d3['tuple'])\n",
    "print(d3['dictionary'])"
   ]
  },
  {
   "cell_type": "code",
   "execution_count": 43,
   "metadata": {},
   "outputs": [
    {
     "data": {
      "text/plain": [
       "(4, 5)"
      ]
     },
     "execution_count": 43,
     "metadata": {},
     "output_type": "execute_result"
    }
   ],
   "source": [
    "d3.get('tuple')"
   ]
  },
  {
   "cell_type": "code",
   "execution_count": 44,
   "metadata": {},
   "outputs": [
    {
     "data": {
      "text/plain": [
       "<function dict.values>"
      ]
     },
     "execution_count": 44,
     "metadata": {},
     "output_type": "execute_result"
    }
   ],
   "source": [
    "d3.values"
   ]
  },
  {
   "cell_type": "code",
   "execution_count": 45,
   "metadata": {},
   "outputs": [
    {
     "data": {
      "text/plain": [
       "dict_values([[1, 2, 3], (4, 5), {'key1': 'item1', 'key2': 'item2', 'key3': 'item3'}])"
      ]
     },
     "execution_count": 45,
     "metadata": {},
     "output_type": "execute_result"
    }
   ],
   "source": [
    "d3.values()"
   ]
  },
  {
   "cell_type": "code",
   "execution_count": 46,
   "metadata": {},
   "outputs": [
    {
     "data": {
      "text/plain": [
       "{'list': [1, 2, 3],\n",
       " 'tuple': (4, 5),\n",
       " 'dictionary': {'key1': 'item1', 'key2': 'item2', 'key3': 'item3'},\n",
       " 'string_list': ['one', 'two', 'three']}"
      ]
     },
     "execution_count": 46,
     "metadata": {},
     "output_type": "execute_result"
    }
   ],
   "source": [
    "# We can also add further entries into a dictionary\n",
    "# Just set the key entry and set it equal to it's value\n",
    "\n",
    "d3['string_list'] = ['one', 'two', 'three']\n",
    "\n",
    "d3"
   ]
  },
  {
   "cell_type": "markdown",
   "metadata": {},
   "source": [
    "| methods  |  description  |\n",
    "|---|---|\n",
    "| dict.clear() | Removes all elements from dict |\n",
    "| dict.get(key, default=None) | For ``key`` key, returns value or ``default`` if key doesn't exist in dict | \n",
    "| dict.items() | Returns a list of dicts (key, value) tuple pairs | \n",
    "| dict.keys() | Returns a list of dictionary keys |\n",
    "| dict.setdefault(key, default=None) | Similar to get, but set the value of key if it doesn't exist in dict |\n",
    "| dict.update(dict2) | Add the key / value pairs in dict2 to dict |\n",
    "| dict.values() | Returns a list of dictionary values|"
   ]
  },
  {
   "cell_type": "markdown",
   "metadata": {},
   "source": [
    "Notice how we were able to put a list, tuple, and another dictionary into our first dictionary?\n",
    "\n",
    "How would you use `d3` to access 2, 5, and item2?"
   ]
  },
  {
   "cell_type": "code",
   "execution_count": 47,
   "metadata": {},
   "outputs": [
    {
     "name": "stdout",
     "output_type": "stream",
     "text": [
      "2 2\n",
      "5 5\n",
      "item2 item2\n"
     ]
    }
   ],
   "source": [
    "print(d3['list'][1], \n",
    "      d3.get('list')[1])\n",
    "\n",
    "print(d3['tuple'][1],\n",
    "     d3.get('tuple')[1])\n",
    "\n",
    "print(d3['dictionary']['key2'],\n",
    "     d3.get('dictionary').get('key2'))"
   ]
  },
  {
   "cell_type": "markdown",
   "metadata": {},
   "source": [
    "#### How would i combine d and d2 into one single dictionary?"
   ]
  },
  {
   "cell_type": "code",
   "execution_count": 48,
   "metadata": {},
   "outputs": [],
   "source": [
    "d.update(d2)"
   ]
  },
  {
   "cell_type": "code",
   "execution_count": 49,
   "metadata": {},
   "outputs": [
    {
     "data": {
      "text/plain": [
       "{'key1': 'item1', 'key2': 'item2', 'key3': 'item3', 1: 100, 2: 200, 3: 300}"
      ]
     },
     "execution_count": 49,
     "metadata": {},
     "output_type": "execute_result"
    }
   ],
   "source": [
    "d"
   ]
  },
  {
   "cell_type": "markdown",
   "metadata": {},
   "source": [
    "## Take a short break\n",
    "\n",
    "Play around with any of the data types for now, get coffee, or whatever else you need"
   ]
  },
  {
   "cell_type": "markdown",
   "metadata": {},
   "source": [
    "#### Comparison and Logic Operators\n",
    "\n",
    "Below are some common operators that you may find useful in Python.\n",
    "\n",
    "* '>'\n",
    "* '>='\n",
    "* <\n",
    "* <=\n",
    "* ==\n",
    "* !=\n",
    "* and / or\n",
    "\n",
    "If we use any of these operators in Python code, the result will be either `True` or `False`"
   ]
  },
  {
   "cell_type": "code",
   "execution_count": 50,
   "metadata": {},
   "outputs": [
    {
     "data": {
      "text/plain": [
       "True"
      ]
     },
     "execution_count": 50,
     "metadata": {},
     "output_type": "execute_result"
    }
   ],
   "source": [
    "4 > 3"
   ]
  },
  {
   "cell_type": "code",
   "execution_count": 51,
   "metadata": {},
   "outputs": [
    {
     "data": {
      "text/plain": [
       "False"
      ]
     },
     "execution_count": 51,
     "metadata": {},
     "output_type": "execute_result"
    }
   ],
   "source": [
    "3 > 4"
   ]
  },
  {
   "cell_type": "code",
   "execution_count": 52,
   "metadata": {},
   "outputs": [
    {
     "data": {
      "text/plain": [
       "True"
      ]
     },
     "execution_count": 52,
     "metadata": {},
     "output_type": "execute_result"
    }
   ],
   "source": [
    "4 >= 4"
   ]
  },
  {
   "cell_type": "code",
   "execution_count": 53,
   "metadata": {},
   "outputs": [
    {
     "data": {
      "text/plain": [
       "False"
      ]
     },
     "execution_count": 53,
     "metadata": {},
     "output_type": "execute_result"
    }
   ],
   "source": [
    "4 <= 3"
   ]
  },
  {
   "cell_type": "code",
   "execution_count": 54,
   "metadata": {},
   "outputs": [
    {
     "data": {
      "text/plain": [
       "True"
      ]
     },
     "execution_count": 54,
     "metadata": {},
     "output_type": "execute_result"
    }
   ],
   "source": [
    "4 == 4"
   ]
  },
  {
   "cell_type": "code",
   "execution_count": 55,
   "metadata": {},
   "outputs": [
    {
     "data": {
      "text/plain": [
       "False"
      ]
     },
     "execution_count": 55,
     "metadata": {},
     "output_type": "execute_result"
    }
   ],
   "source": [
    "4 != 4"
   ]
  },
  {
   "cell_type": "code",
   "execution_count": 56,
   "metadata": {},
   "outputs": [
    {
     "data": {
      "text/plain": [
       "True"
      ]
     },
     "execution_count": 56,
     "metadata": {},
     "output_type": "execute_result"
    }
   ],
   "source": [
    "# We can also do more than one operator\n",
    "\n",
    "# If both conditions are met in an 'and' statement, it will return True\n",
    "\n",
    "4 > 3 and 4 > 2"
   ]
  },
  {
   "cell_type": "code",
   "execution_count": 57,
   "metadata": {},
   "outputs": [
    {
     "data": {
      "text/plain": [
       "True"
      ]
     },
     "execution_count": 57,
     "metadata": {},
     "output_type": "execute_result"
    }
   ],
   "source": [
    "# If either conditions are met in an 'or' statement, it will return True\n",
    "\n",
    "4 > 3 or 1 > 2"
   ]
  },
  {
   "cell_type": "markdown",
   "metadata": {},
   "source": [
    "<hr>\n",
    "## Flow control\n",
    "\n",
    "<img src=\"https://docs.oracle.com/cd/B19306_01/appdev.102/b14261/lnpls008.gif\">\n",
    "\n",
    "Flow control refers how to programs do loops, conditional execution, and order of functional operations.  Let's start with conditionals, or the venerable ``if`` statement.\n"
   ]
  },
  {
   "cell_type": "markdown",
   "metadata": {},
   "source": [
    "We can use `if/else` statements as ways of separating different pathways in our flow"
   ]
  },
  {
   "cell_type": "code",
   "execution_count": 58,
   "metadata": {},
   "outputs": [],
   "source": [
    "instructors = ['Erica', 'Matt', 'Dave', 'Chad', 'JoeSchmoe']"
   ]
  },
  {
   "cell_type": "code",
   "execution_count": 59,
   "metadata": {},
   "outputs": [
    {
     "name": "stdout",
     "output_type": "stream",
     "text": [
      "not a real instructor\n"
     ]
    }
   ],
   "source": [
    "# We can use an if statement to check a certain JoeSchmoe is in our instructor list\n",
    "\n",
    "if 'JoeSchmoe' in instructors:\n",
    "    print('not a real instructor')"
   ]
  },
  {
   "cell_type": "code",
   "execution_count": 60,
   "metadata": {},
   "outputs": [
    {
     "name": "stdout",
     "output_type": "stream",
     "text": [
      "not a real instructor\n"
     ]
    }
   ],
   "source": [
    "# We can add an else statement, that will execute if the if statement is not met\n",
    "\n",
    "if 'JoeSchmoe' in instructors:\n",
    "    print('not a real instructor')\n",
    "else:\n",
    "    print('No issues here!')"
   ]
  },
  {
   "cell_type": "code",
   "execution_count": 61,
   "metadata": {},
   "outputs": [
    {
     "name": "stdout",
     "output_type": "stream",
     "text": [
      "No issues here!\n"
     ]
    }
   ],
   "source": [
    "instructors.remove('JoeSchmoe')\n",
    "\n",
    "if 'JoeSchmoe' in instructors:\n",
    "    print('not a real instructor')\n",
    "else:\n",
    "    print('No issues here!')"
   ]
  },
  {
   "cell_type": "markdown",
   "metadata": {},
   "source": [
    "Using our knowledge of list comprehension, can you use the following instructors list to check if \"Victor\" is in the instructor list, and then using if/else statements, add it in if it's present?"
   ]
  },
  {
   "cell_type": "code",
   "execution_count": 7,
   "metadata": {},
   "outputs": [],
   "source": [
    "fake_list = list(range(4,10))"
   ]
  },
  {
   "cell_type": "code",
   "execution_count": null,
   "metadata": {},
   "outputs": [],
   "source": []
  },
  {
   "cell_type": "code",
   "execution_count": 62,
   "metadata": {},
   "outputs": [
    {
     "data": {
      "text/plain": [
       "['Erica', 'Matt', 'Dave', 'Chad', 'Victor']"
      ]
     },
     "execution_count": 62,
     "metadata": {},
     "output_type": "execute_result"
    }
   ],
   "source": [
    "instructors = ['Erica', 'Matt', 'Dave', 'Chad']\n",
    "\n",
    "if 'Victor' in instructors:\n",
    "    pass # This pass statement is essentially a placeholder, and will allow the rest of the iteration or code to keep running\n",
    "else:\n",
    "    instructors.append('Victor')\n",
    "    \n",
    "instructors"
   ]
  },
  {
   "cell_type": "markdown",
   "metadata": {},
   "source": [
    "You can also have multiple 'if' statements through `elif`"
   ]
  },
  {
   "cell_type": "code",
   "execution_count": 61,
   "metadata": {},
   "outputs": [],
   "source": [
    "instructors = ['Erica', 'Matt', 'Dave', 'Chad']\n",
    "fake_instructors = ['JoeSchmoe', 'JonhDoe', 'JaneDoe']"
   ]
  },
  {
   "cell_type": "code",
   "execution_count": 64,
   "metadata": {},
   "outputs": [
    {
     "data": {
      "text/plain": [
       "['Erica', 'Matt', 'Dave', 'Chad', 'Victor']"
      ]
     },
     "execution_count": 64,
     "metadata": {},
     "output_type": "execute_result"
    }
   ],
   "source": [
    "if 'Victor' in instructors:\n",
    "    pass\n",
    "elif 'Victor' in fake_instructors:\n",
    "    print(\"Wait, that doesn't seem right\")\n",
    "else:\n",
    "    instructors.append('Victor')\n",
    "\n",
    "instructors"
   ]
  },
  {
   "cell_type": "markdown",
   "metadata": {},
   "source": [
    "#### For and While Loops\n",
    "\n",
    "* Can iterate through lists\n",
    "* Can iterate through ranges\n",
    "* Can get stuck in an infinite while loop\n",
    "* pass / continue / break\n",
    "* Nesting for loops / while loops"
   ]
  },
  {
   "cell_type": "code",
   "execution_count": 63,
   "metadata": {},
   "outputs": [
    {
     "name": "stdout",
     "output_type": "stream",
     "text": [
      "Erica\n",
      "Matt\n",
      "Dave\n",
      "Chad\n",
      "Victor\n"
     ]
    }
   ],
   "source": [
    "# For statement is extremely common for loops\n",
    "\n",
    "for instructor in instructors:\n",
    "    print(instructor)"
   ]
  },
  {
   "cell_type": "code",
   "execution_count": 64,
   "metadata": {},
   "outputs": [
    {
     "name": "stdout",
     "output_type": "stream",
     "text": [
      "0\n",
      "1\n",
      "2\n",
      "3\n",
      "4\n",
      "5\n",
      "6\n",
      "7\n",
      "8\n",
      "9\n",
      "10\n"
     ]
    }
   ],
   "source": [
    "# We can also iterate through a range of numbers\n",
    "\n",
    "for i in range(0,11):\n",
    "    print(i)\n",
    "    \n",
    "# for i in range(0,11,2):\n",
    "#     print(i)"
   ]
  },
  {
   "cell_type": "code",
   "execution_count": 65,
   "metadata": {},
   "outputs": [
    {
     "data": {
      "text/plain": [
       "{'list': [1, 2, 3],\n",
       " 'tuple': (4, 5),\n",
       " 'dictionary': {'key1': 'item1', 'key2': 'item2', 'key3': 'item3'},\n",
       " 'string_list': ['one', 'two', 'three']}"
      ]
     },
     "execution_count": 65,
     "metadata": {},
     "output_type": "execute_result"
    }
   ],
   "source": [
    "# We can also iterate through keys in a dictionary\n",
    "\n",
    "d3"
   ]
  },
  {
   "cell_type": "code",
   "execution_count": 66,
   "metadata": {},
   "outputs": [
    {
     "name": "stdout",
     "output_type": "stream",
     "text": [
      "list\n",
      "tuple\n",
      "dictionary\n",
      "string_list\n"
     ]
    }
   ],
   "source": [
    "for key in d3.keys():\n",
    "    print(key)"
   ]
  },
  {
   "cell_type": "code",
   "execution_count": 67,
   "metadata": {},
   "outputs": [
    {
     "name": "stdout",
     "output_type": "stream",
     "text": [
      "1 1 1\n",
      "1 2 2\n",
      "1 3 3\n",
      "2 1 2\n",
      "2 2 4\n",
      "2 3 6\n",
      "3 1 3\n",
      "3 2 6\n",
      "3 3 9\n"
     ]
    }
   ],
   "source": [
    "# For loops can also be nested\n",
    "\n",
    "for i in range(1, 4):\n",
    "    for j in range(1, 4):\n",
    "        print(i, j, i*j)\n",
    "        #print(str(i) + ' * ' + str(j) + ' = ' + str(i*j))\n",
    "        #print('%d * %d = %d' % (i, j, i*j))  # Note string formatting here, %d means an integer"
   ]
  },
  {
   "cell_type": "markdown",
   "metadata": {},
   "source": [
    "Let's write two separate for loops, each with an `if` condition at  `i == 5`, and see what happens if we choose pass vs continue in our `if`"
   ]
  },
  {
   "cell_type": "code",
   "execution_count": 36,
   "metadata": {},
   "outputs": [
    {
     "name": "stdout",
     "output_type": "stream",
     "text": [
      "0 2\n",
      "1 4\n",
      "2 8\n",
      "4 16\n",
      "5 32\n"
     ]
    },
    {
     "data": {
      "text/plain": [
       "32"
      ]
     },
     "execution_count": 36,
     "metadata": {},
     "output_type": "execute_result"
    }
   ],
   "source": [
    "sum_continue = 1\n",
    "\n",
    "for i in range(0,6):\n",
    "    if i == 3:\n",
    "        continue\n",
    "    else:\n",
    "        sum_continue = sum_continue *2\n",
    "    \n",
    "    #sum_continue = sum_continue * 2\n",
    "    print(i, sum_continue)\n",
    "    \n",
    "sum_continue"
   ]
  },
  {
   "cell_type": "code",
   "execution_count": 38,
   "metadata": {},
   "outputs": [
    {
     "name": "stdout",
     "output_type": "stream",
     "text": [
      "0 2\n",
      "1 4\n",
      "2 8\n",
      "3 8\n",
      "4 16\n",
      "5 32\n"
     ]
    },
    {
     "data": {
      "text/plain": [
       "32"
      ]
     },
     "execution_count": 38,
     "metadata": {},
     "output_type": "execute_result"
    }
   ],
   "source": [
    "sum_pass = 1\n",
    "\n",
    "for i in range(0,6):\n",
    "    if i == 3:\n",
    "        pass\n",
    "    else:\n",
    "        sum_pass = sum_pass * 2\n",
    "    \n",
    "    #sum_pass = sum_pass * 2\n",
    "    print(i, sum_pass)\n",
    "\n",
    "sum_pass"
   ]
  },
  {
   "cell_type": "code",
   "execution_count": 40,
   "metadata": {},
   "outputs": [
    {
     "name": "stdout",
     "output_type": "stream",
     "text": [
      "0 2\n",
      "1 4\n",
      "2 8\n"
     ]
    },
    {
     "data": {
      "text/plain": [
       "8"
      ]
     },
     "execution_count": 40,
     "metadata": {},
     "output_type": "execute_result"
    }
   ],
   "source": [
    "sum_break = 1\n",
    "\n",
    "for i in range(0,6):\n",
    "    if i == 3:\n",
    "        break\n",
    "    else:\n",
    "        sum_break = sum_break * 2\n",
    "    \n",
    "    #sum_pass = sum_pass * 2\n",
    "    print(i, sum_break)\n",
    "\n",
    "sum_break"
   ]
  },
  {
   "cell_type": "markdown",
   "metadata": {},
   "source": [
    "What you should notice is that `pass` and `continue` do two very different things.\n",
    "\n",
    "`pass` : Carries through with the rest of the iteration through the for loop\n",
    "`continue` : Stops the iteration in the for loop at that condition and moves on"
   ]
  },
  {
   "cell_type": "markdown",
   "metadata": {},
   "source": [
    "#### Exercise"
   ]
  },
  {
   "cell_type": "markdown",
   "metadata": {},
   "source": [
    "Write a for loop that runs and continues the Fibonacci sequence for the next 10 numbers if we start with the first five numbers.\n",
    "\n",
    "[1, 1, 2, 3, 5]"
   ]
  },
  {
   "cell_type": "code",
   "execution_count": 68,
   "metadata": {},
   "outputs": [
    {
     "data": {
      "text/plain": [
       "[1, 1, 2, 3, 5, 8, 13, 21, 34, 55, 89, 144, 233, 377, 610, 987]"
      ]
     },
     "execution_count": 68,
     "metadata": {},
     "output_type": "execute_result"
    }
   ],
   "source": [
    "fib = [1, 1, 2, 3, 5]\n",
    "\n",
    "for i in range(0,11,1):\n",
    "    fib.append(fib[-1] + fib[-2])\n",
    "    \n",
    "fib"
   ]
  },
  {
   "cell_type": "code",
   "execution_count": 69,
   "metadata": {},
   "outputs": [
    {
     "data": {
      "text/plain": [
       "[1, 1, 2, 3, 5, 8, 13, 21, 34, 55, 89, 144, 233, 377, 610, 987]"
      ]
     },
     "execution_count": 69,
     "metadata": {},
     "output_type": "execute_result"
    }
   ],
   "source": [
    "# We can also break for loops early if a certain condition is met\n",
    "\n",
    "fib = [1, 1, 2, 3, 5]\n",
    "\n",
    "for i in range(0,111,1):\n",
    "    next_number = fib[-1] + fib[-2]\n",
    "    \n",
    "    if next_number > 1000:\n",
    "        break\n",
    "    else:\n",
    "        fib.append(fib[-1] + fib[-2])\n",
    "    \n",
    "fib"
   ]
  },
  {
   "cell_type": "code",
   "execution_count": 70,
   "metadata": {},
   "outputs": [
    {
     "name": "stdout",
     "output_type": "stream",
     "text": [
      "Erica is the coolest\n",
      "Matt is the coolest\n",
      "Dave is the coolest\n",
      "Chad is the coolest\n"
     ]
    }
   ],
   "source": [
    "# We can also pass certain conditions in a for loop is a certain condition is met as well\n",
    "# You can imagine if you're looping through a series of variables, you can leave a certain variable out in your analysis\n",
    "\n",
    "for instructor in instructors:\n",
    "    if instructor == 'Victor':\n",
    "        continue\n",
    "    else:\n",
    "        print(instructor + ' is the coolest')"
   ]
  },
  {
   "cell_type": "markdown",
   "metadata": {},
   "source": [
    "Given this list of names, we want to create a new list that doesn't have everyone's position attached to it. How do we do this?"
   ]
  },
  {
   "cell_type": "code",
   "execution_count": 31,
   "metadata": {},
   "outputs": [
    {
     "data": {
      "text/plain": [
       "['Jess[manager]', 'Harry[PR]', 'Jenny[Scientist]', 'Cory[HR]']"
      ]
     },
     "execution_count": 31,
     "metadata": {},
     "output_type": "execute_result"
    }
   ],
   "source": [
    "positions = ['Jess[manager]', 'Harry[PR]', 'Jenny[Scientist]', 'Cory[HR]']\n",
    "positions"
   ]
  },
  {
   "cell_type": "code",
   "execution_count": 43,
   "metadata": {},
   "outputs": [
    {
     "name": "stdout",
     "output_type": "stream",
     "text": [
      "['Jess[manager]', 'Harry[PR]', 'Jenny[Scientist]', 'Cory[HR]']\n",
      "['Jess', 'Harry', 'Jenny', 'Cory']\n"
     ]
    }
   ],
   "source": [
    "names = []\n",
    "\n",
    "for i in positions:\n",
    "    name = i.split('[')[0]\n",
    "    names.append(name)\n",
    "\n",
    "print(positions)\n",
    "print(names)"
   ]
  },
  {
   "cell_type": "markdown",
   "metadata": {},
   "source": [
    "You can also use while loops to accomplish a lot of these same goals, just be careful not to get stuck in an infinite while loop!"
   ]
  },
  {
   "cell_type": "code",
   "execution_count": 46,
   "metadata": {},
   "outputs": [
    {
     "data": {
      "text/plain": [
       "['Jess', 'Harry', 'Jenny', 'Cory']"
      ]
     },
     "execution_count": 46,
     "metadata": {},
     "output_type": "execute_result"
    }
   ],
   "source": [
    "names = []\n",
    "i = 0\n",
    "\n",
    "while i < len(positions):\n",
    "    name = positions[i].split('[')[0]\n",
    "    names.append(name)\n",
    "    i += 1\n",
    "\n",
    "names"
   ]
  },
  {
   "cell_type": "code",
   "execution_count": 13,
   "metadata": {},
   "outputs": [
    {
     "name": "stdout",
     "output_type": "stream",
     "text": [
      "[1, 2, 3, 4, 5, 6, 7, 8, 9]\n"
     ]
    }
   ],
   "source": [
    "index = 1\n",
    "new_list = []\n",
    "\n",
    "while index < 10:\n",
    "    new_list.append(index)\n",
    "    index += 1 # Without this step, you'd be stuck in an infinite while loop and for me, my whole notebook just stops working!\n",
    "\n",
    "print(new_list)"
   ]
  },
  {
   "cell_type": "markdown",
   "metadata": {},
   "source": [
    "#### Functions\n",
    "\n",
    "We can modulize different components of our analysis by using self-built functions! These include components such as\n",
    "\n",
    "* input variables\n",
    "* return\n",
    "* docstring\n",
    "\n",
    "We're going to start off really simple, and just create a simple function that tells us if the word \"dog\" is in a statement and count how many times it shows up"
   ]
  },
  {
   "cell_type": "markdown",
   "metadata": {},
   "source": [
    "Variables have scope: `global` and `local`\n",
    "\n",
    "In a function, new variables that you create are not saved when the function returns - these are `local` variables.  Variables defined outside of the function can be accessed but not changed - these are `global` variables, _Note_ there is a way to do this with the `global` keyword.  Generally, the use of `global` variables is not encouraged, instead use parameters.\n",
    "\n",
    "```\n",
    "my_global_1 = 'bad idea'\n",
    "my_global_2 = 'another bad one'\n",
    "my_global_3 = 'better idea'\n",
    "\n",
    "def my_function():\n",
    "    print(my_global_1)\n",
    "    my_global_2 = 'broke your global, man!'\n",
    "    global my_global_3\n",
    "    my_global_3 = 'still a better idea'\n",
    "    return\n",
    "    \n",
    "my_function()\n",
    "print(my_global_2)\n",
    "print(my_global_3)\n",
    "```"
   ]
  },
  {
   "cell_type": "markdown",
   "metadata": {},
   "source": [
    "### Parameters have three different types:\n",
    "\n",
    "| type | behavior |\n",
    "|------|----------|\n",
    "| required | positional, must be present or error, e.g. `my_func(first_name, last_name)` |\n",
    "| keyword | position independent, e.g. `my_func(first_name, last_name)` can be called `my_func(first_name='Dave', last_name='Beck')` or `my_func(last_name='Beck', first_name='Dave')` |\n",
    "| default | keyword params that default to a value if not provided |\n"
   ]
  },
  {
   "cell_type": "code",
   "execution_count": 16,
   "metadata": {},
   "outputs": [],
   "source": [
    "def print_name(first, last='Smith'):\n",
    "    print('Your name is %s %s' % (first, last))\n",
    "    return"
   ]
  },
  {
   "cell_type": "code",
   "execution_count": 24,
   "metadata": {},
   "outputs": [
    {
     "ename": "TypeError",
     "evalue": "print_name() missing 1 required positional argument: 'first'",
     "output_type": "error",
     "traceback": [
      "\u001b[1;31m---------------------------------------------------------------------------\u001b[0m",
      "\u001b[1;31mTypeError\u001b[0m                                 Traceback (most recent call last)",
      "\u001b[1;32m<ipython-input-24-2e6b25599650>\u001b[0m in \u001b[0;36m<module>\u001b[1;34m()\u001b[0m\n\u001b[1;32m----> 1\u001b[1;33m \u001b[0mprint_name\u001b[0m\u001b[1;33m(\u001b[0m\u001b[0mlast\u001b[0m \u001b[1;33m=\u001b[0m \u001b[1;34m'Victor'\u001b[0m\u001b[1;33m)\u001b[0m\u001b[1;33m\u001b[0m\u001b[0m\n\u001b[0m",
      "\u001b[1;31mTypeError\u001b[0m: print_name() missing 1 required positional argument: 'first'"
     ]
    }
   ],
   "source": [
    "print_name(last = 'Victor')"
   ]
  },
  {
   "cell_type": "code",
   "execution_count": 22,
   "metadata": {},
   "outputs": [
    {
     "name": "stdout",
     "output_type": "stream",
     "text": [
      "Your name is Victor Hu\n"
     ]
    }
   ],
   "source": [
    "print_name('Victor', 'Hu')"
   ]
  },
  {
   "cell_type": "code",
   "execution_count": 17,
   "metadata": {},
   "outputs": [
    {
     "name": "stdout",
     "output_type": "stream",
     "text": [
      "Your name is Victor Smith\n"
     ]
    }
   ],
   "source": [
    "print_name(first='Victor')"
   ]
  },
  {
   "cell_type": "code",
   "execution_count": 19,
   "metadata": {},
   "outputs": [
    {
     "name": "stdout",
     "output_type": "stream",
     "text": [
      "Your name is Victor Hu\n"
     ]
    }
   ],
   "source": [
    "print_name(first='Victor', last = 'Hu')"
   ]
  },
  {
   "cell_type": "code",
   "execution_count": 20,
   "metadata": {},
   "outputs": [
    {
     "name": "stdout",
     "output_type": "stream",
     "text": [
      "Your name is Victor Hu\n"
     ]
    }
   ],
   "source": [
    "print_name(last = 'Hu', first='Victor')"
   ]
  },
  {
   "cell_type": "code",
   "execution_count": 59,
   "metadata": {},
   "outputs": [],
   "source": [
    "# We can reference other functions in another function\n",
    "\n",
    "def print_name_age(first, last, age):\n",
    "    print_name(first, last)\n",
    "    print('Your age is %d' % (age))\n",
    "    if int(age > 35:\n",
    "        print('You are really old.')\n",
    "    else:\n",
    "        print('Young and hip')\n",
    "    return"
   ]
  },
  {
   "cell_type": "code",
   "execution_count": 61,
   "metadata": {},
   "outputs": [
    {
     "name": "stdout",
     "output_type": "stream",
     "text": [
      "Your name is Victor Hu\n",
      "Your age is 31\n",
      "Young and hip\n"
     ]
    }
   ],
   "source": [
    "print_name_age('Victor', 'Hu', 31)"
   ]
  },
  {
   "cell_type": "markdown",
   "metadata": {},
   "source": [
    "Write a function that can detect if the word 'cat' is in the following sentence. If there are multiple 'cat' appearances, can you get your function to count it?"
   ]
  },
  {
   "cell_type": "code",
   "execution_count": 64,
   "metadata": {},
   "outputs": [],
   "source": [
    "sentence_1 = 'This catz sure does have cat like reflexes'\n",
    "sentence_2 = 'This dog is nothing like that cat I use to have'\n",
    "sentence_3 = 'Unpopular opinion to some: dogs are superior'"
   ]
  },
  {
   "cell_type": "code",
   "execution_count": 78,
   "metadata": {},
   "outputs": [],
   "source": [
    "def findCat(string):\n",
    "    '''\n",
    "    Purpose of function is to see if the word 'cat' is in a string, and if so, how many times does it appear. The first loop only looks if word\n",
    "    is definitively cat\n",
    "    '''\n",
    "    y = string.lower().split(' ') # What happens if we don't have this?\n",
    "    count = 0\n",
    "    for word in y:\n",
    "        if word == 'cat':\n",
    "            count += 1   \n",
    "        else:\n",
    "            pass\n",
    "    \n",
    "    if count > 0:\n",
    "        return True, count\n",
    "    else:\n",
    "        return False"
   ]
  },
  {
   "cell_type": "code",
   "execution_count": 82,
   "metadata": {},
   "outputs": [
    {
     "data": {
      "text/plain": [
       "False"
      ]
     },
     "execution_count": 82,
     "metadata": {},
     "output_type": "execute_result"
    }
   ],
   "source": [
    "findCat(sentence_3)"
   ]
  },
  {
   "cell_type": "code",
   "execution_count": 61,
   "metadata": {},
   "outputs": [],
   "source": [
    "# Maybe skip this part\n",
    "\n",
    "def findCat_2(input_string):\n",
    "    '''\n",
    "    Purpose of function is to see if the word 'cat' is in a string, and if so, how many times does it appear\n",
    "    This function though will find all instances of 'cat', even if it's category\n",
    "    '''\n",
    "    string = input_string.lower()\n",
    "    count = 0\n",
    "    if 'cat' in string:\n",
    "        for word in string.split(' '):\n",
    "            if 'cat' in word:\n",
    "                count += 1\n",
    "            else:\n",
    "                pass\n",
    "        return True, count\n",
    "    else:\n",
    "        return False\n",
    "    \n",
    "# Fun exercise -- what happens if we use cats? How do we fix that?"
   ]
  },
  {
   "cell_type": "code",
   "execution_count": 83,
   "metadata": {},
   "outputs": [
    {
     "data": {
      "text/plain": [
       "(True, 1)"
      ]
     },
     "execution_count": 83,
     "metadata": {},
     "output_type": "execute_result"
    }
   ],
   "source": [
    "findCat(sentence_1)"
   ]
  },
  {
   "cell_type": "code",
   "execution_count": 84,
   "metadata": {},
   "outputs": [
    {
     "data": {
      "text/plain": [
       "(True, 1)"
      ]
     },
     "execution_count": 84,
     "metadata": {},
     "output_type": "execute_result"
    }
   ],
   "source": [
    "findCat(sentence_2)"
   ]
  },
  {
   "cell_type": "code",
   "execution_count": 85,
   "metadata": {},
   "outputs": [
    {
     "data": {
      "text/plain": [
       "False"
      ]
     },
     "execution_count": 85,
     "metadata": {},
     "output_type": "execute_result"
    }
   ],
   "source": [
    "findCat(sentence_3)"
   ]
  },
  {
   "cell_type": "markdown",
   "metadata": {},
   "source": [
    "Let's bring some math into this! Write a function that solves for the equation\n",
    "\n",
    "$ y = ax^{2} + bx + c $\n",
    "\n",
    "And then use that function to iterate and solve that function using for for x = 0 to x = 10?"
   ]
  },
  {
   "cell_type": "code",
   "execution_count": 35,
   "metadata": {},
   "outputs": [],
   "source": [
    "def quadratic_eqt(a, b, c, x):\n",
    "    '''\n",
    "    Following the form ax^2 + bx + c\n",
    "    '''\n",
    "    \n",
    "    y = (a*x**2) + (b*x) + c\n",
    "    \n",
    "    return y"
   ]
  },
  {
   "cell_type": "code",
   "execution_count": 36,
   "metadata": {},
   "outputs": [],
   "source": [
    "x_inputs = list(range(0,11))\n",
    "y_outputs = []\n",
    "\n",
    "for x in x_inputs:\n",
    "    y_outputs.append(quadratic_eqt(0.5, 0.75, 1, x))"
   ]
  },
  {
   "cell_type": "code",
   "execution_count": 40,
   "metadata": {},
   "outputs": [
    {
     "data": {
      "text/plain": [
       "[1.0, 2.25, 4.5, 7.75, 12.0, 17.25, 23.5, 30.75, 39.0, 48.25, 58.5]"
      ]
     },
     "execution_count": 40,
     "metadata": {},
     "output_type": "execute_result"
    }
   ],
   "source": [
    "y_outputs"
   ]
  },
  {
   "cell_type": "code",
   "execution_count": 41,
   "metadata": {},
   "outputs": [],
   "source": [
    "y_outputs2 = []\n",
    "coeffs = [0.5, 0.75, 1]\n",
    "\n",
    "for x in x_inputs:\n",
    "    y_outputs2.append(quadratic_eqt(0.5, 0.75, 1, x))"
   ]
  },
  {
   "cell_type": "code",
   "execution_count": 42,
   "metadata": {},
   "outputs": [
    {
     "data": {
      "text/plain": [
       "[1.0, 2.25, 4.5, 7.75, 12.0, 17.25, 23.5, 30.75, 39.0, 48.25, 58.5]"
      ]
     },
     "execution_count": 42,
     "metadata": {},
     "output_type": "execute_result"
    }
   ],
   "source": [
    "y_outputs2"
   ]
  },
  {
   "cell_type": "markdown",
   "metadata": {},
   "source": [
    "## Break Time!\n",
    "\n",
    "Let's take a break. \n",
    "\n",
    "Next, we're going to move on next to a short introduction on why environments are important"
   ]
  },
  {
   "cell_type": "markdown",
   "metadata": {},
   "source": [
    "## Packages and Modules\n",
    "\n",
    "Package\n",
    "\n",
    "A package is just a way of collecting related modules together within a single tree-like hierarchy. Very complex packages like NumPy or SciPy have hundreds of individual modules so putting them into a directory-like structure keeps things organized and avoids name collisions. For example here is a partial list of sub-packages available within SciPy\n",
    "[link](https://python4astronomers.github.io/installation/packages.html)\n",
    "\n",
    "Module\n",
    "\n",
    "A module is simply a file containing Python definitions, functions, and statements. Putting code into modules is useful because of the ability to import the module functionality into your script or IPython session,\n",
    "\n",
    "* Can rename packages and modules when you import them in\n",
    "\n",
    "Common abbreviations (will find a lot in forums / help sessions)\n",
    "* pandas : pd\n",
    "* matplotlib.pyplot : plt\n",
    "* numpy : np\n",
    "* seaborn : sns\n",
    "* scikit-learn : sklearn\n",
    "\n",
    "Any packages or modules that cannot be found?\n",
    "* Try and make sure you're in the right environment\n",
    "* Conda or pip install\n",
    "    * Difference between Conda and PIP Install"
   ]
  },
  {
   "cell_type": "code",
   "execution_count": 66,
   "metadata": {},
   "outputs": [],
   "source": [
    "import math\n",
    "import matplotlib.pyplot as plt\n",
    "import numpy as np\n",
    "import pandas as pd\n",
    "\n",
    "%matplotlib inline"
   ]
  },
  {
   "cell_type": "markdown",
   "metadata": {},
   "source": [
    "#### Individual Package Exploration\n",
    "\n",
    "* In first package, bring up tab completion\n",
    "* Bring up Shift + Tab to look up docstrings and inputs\n",
    "* When applying a package's tools to something, can be\n",
    "    * variable.tool\n",
    "    * package.tool \n",
    "\n",
    "i.e.\n",
    "\n",
    "```\n",
    "my_variable = np.linspace(0,1,11)\n",
    "my_variable.sum() or np.sum(my_variable)\n",
    "```"
   ]
  },
  {
   "cell_type": "markdown",
   "metadata": {},
   "source": [
    "#### Pandas\n",
    "\n",
    "Python Data Analysis Library (http://pandas.pydata.org/)\n",
    "\n",
    "Amazingly useful library for importing, manipulating, cleaning data from a wide variety of sources"
   ]
  },
  {
   "cell_type": "code",
   "execution_count": null,
   "metadata": {},
   "outputs": [],
   "source": [
    "# import the pandas package\n",
    "import pandas as pd\n",
    "\n",
    "# read in the data from our file\n",
    "file_location = 'https://raw.githubusercontent.com/mdmurbach/ECS-Hack-Day-2017/master/time-data(833).txt?raw=true'\n",
    "data = pd.read_csv(file_location)"
   ]
  },
  {
   "cell_type": "code",
   "execution_count": null,
   "metadata": {},
   "outputs": [],
   "source": [
    "# assign names to each of the columns for easy reference\n",
    "data.columns = ['time(s)', 'current(A)', 'potential(V)', 'frequency(Hz)', 'amplitude(A)']\n",
    "\n",
    "# print out the first 5 rows of our data\n",
    "data.head()"
   ]
  },
  {
   "cell_type": "markdown",
   "metadata": {},
   "source": [
    "#### Matplotlib (Plotting)\n",
    "   \n",
    "* Mention %matplotlib inline\n",
    "\n",
    "Matplotlib is a powerful Python plotting library and forms the basis for many other plotting libraries\n",
    "\n",
    "Simple to use simply, but a LOT of low-level control if you want it…\n",
    "\n",
    "Add resources for some of these low-level controls (titles, legends, axes, scientific notation)"
   ]
  },
  {
   "cell_type": "code",
   "execution_count": 200,
   "metadata": {},
   "outputs": [
    {
     "data": {
      "image/png": "[encoded data removed]",
      "text/plain": [
       "<Figure size 432x288 with 1 Axes>"
      ]
     },
     "metadata": {
      "needs_background": "light"
     },
     "output_type": "display_data"
    }
   ],
   "source": [
    "# import the matplotlib package\n",
    "import matplotlib.pyplot as plt\n",
    "\n",
    "# plot the current and voltage vs time\n",
    "plt.plot(data['time(s)'], data['current(A)'])\n",
    "#plt.plot(data['time(s)'], data['potential(V)'])\n",
    "#plt.xlabel('Time (s)')\n",
    "#plt.ylabel('Current (A)')\n",
    "#plt.axhline(y = 0, 'k', ls = ':')\n",
    "\n",
    "plt.show()"
   ]
  },
  {
   "cell_type": "markdown",
   "metadata": {},
   "source": [
    "#### Numpy\n",
    "\n",
    "NumPy a very useful library for scientific computing. It adds support for arrays, linear algebra tools and optimized integration with C/Fortran\n",
    "\n",
    "Used by many, many other numerical/scientific computing packages"
   ]
  },
  {
   "cell_type": "code",
   "execution_count": 77,
   "metadata": {},
   "outputs": [],
   "source": [
    "import numpy as np"
   ]
  },
  {
   "cell_type": "code",
   "execution_count": 72,
   "metadata": {},
   "outputs": [
    {
     "data": {
      "text/plain": [
       "array([0., 0., 0., 0.])"
      ]
     },
     "execution_count": 72,
     "metadata": {},
     "output_type": "execute_result"
    }
   ],
   "source": [
    "x_array = np.zeros(4)\n",
    "x_array"
   ]
  },
  {
   "cell_type": "code",
   "execution_count": 74,
   "metadata": {},
   "outputs": [
    {
     "data": {
      "text/plain": [
       "array([1, 2, 3, 4])"
      ]
     },
     "execution_count": 74,
     "metadata": {},
     "output_type": "execute_result"
    }
   ],
   "source": [
    "x_array = np.array([1, 2, 3, 4])\n",
    "x_array"
   ]
  },
  {
   "cell_type": "code",
   "execution_count": 73,
   "metadata": {},
   "outputs": [
    {
     "data": {
      "text/plain": [
       "array([[0., 0., 0.],\n",
       "       [0., 0., 0.],\n",
       "       [0., 0., 0.],\n",
       "       [0., 0., 0.]])"
      ]
     },
     "execution_count": 73,
     "metadata": {},
     "output_type": "execute_result"
    }
   ],
   "source": [
    "x_matrix = np.zeros([4, 3])\n",
    "x_matrix"
   ]
  },
  {
   "cell_type": "code",
   "execution_count": 76,
   "metadata": {},
   "outputs": [
    {
     "data": {
      "text/plain": [
       "(4, 3)"
      ]
     },
     "execution_count": 76,
     "metadata": {},
     "output_type": "execute_result"
    }
   ],
   "source": [
    "x_matrix.shape"
   ]
  },
  {
   "cell_type": "code",
   "execution_count": 78,
   "metadata": {},
   "outputs": [
    {
     "name": "stdout",
     "output_type": "stream",
     "text": [
      "Mean = 0.329 \t Std. Dev. = 0.227\n"
     ]
    },
    {
     "data": {
      "image/png": "[encoded data removed]",
      "text/plain": [
       "<Figure size 432x288 with 1 Axes>"
      ]
     },
     "metadata": {
      "needs_background": "light"
     },
     "output_type": "display_data"
    }
   ],
   "source": [
    "x = np.linspace(0,10, num=10)\n",
    "y = np.random.random(len(x))\n",
    "\n",
    "y_mean = y.mean()\n",
    "y_std = y.std()\n",
    "\n",
    "print('Mean = {0:.3f} \\t Std. Dev. = {1:.3f}'.format(y_mean, y_std))\n",
    "\n",
    "plt.plot(x, y, 'o')\n",
    "plt.ylim(0,1)\n",
    "plt.show()"
   ]
  },
  {
   "cell_type": "markdown",
   "metadata": {},
   "source": [
    "#### Scipy\n",
    "\n",
    "SciPy is a collection of open-source Python libraries for mathematics, science, and engineering\n",
    "\n",
    "Contains many useful tools for optimization, signal processing, curve fitting\n",
    "\n",
    "Tip: SciPy can be on the more difficult side to install due to all of the C dependencies. Highly recommended to use Conda as a package management tool"
   ]
  },
  {
   "cell_type": "code",
   "execution_count": 79,
   "metadata": {},
   "outputs": [
    {
     "data": {
      "image/png": "[encoded data removed]",
      "text/plain": [
       "<Figure size 432x288 with 1 Axes>"
      ]
     },
     "metadata": {
      "needs_background": "light"
     },
     "output_type": "display_data"
    }
   ],
   "source": [
    "import numpy as np\n",
    "import matplotlib.pyplot as plt\n",
    "from scipy.optimize import curve_fit\n",
    "\n",
    "def func(x, a, b, c):\n",
    "    return a * np.exp(-b * x) + c\n",
    "\n",
    "# define the data to be fit with some noise\n",
    "\n",
    "xdata = np.linspace(0, 4, 50)\n",
    "y = func(xdata, 2.5, 1.3, 0.5)\n",
    "y_noise = 0.2 * np.random.normal(size=xdata.size)\n",
    "ydata = y + y_noise\n",
    "plt.plot(xdata, ydata, 'b-', label='data')\n",
    "\n",
    "plt.xlabel('x')\n",
    "plt.ylabel('y')\n",
    "plt.legend()\n",
    "plt.show()"
   ]
  },
  {
   "cell_type": "code",
   "execution_count": 90,
   "metadata": {},
   "outputs": [
    {
     "name": "stdout",
     "output_type": "stream",
     "text": [
      "[2.49063016 1.1853044  0.45181345]\n"
     ]
    }
   ],
   "source": [
    "# Fit for the parameters a, b, c of the function func\n",
    "\n",
    "popt, pcov = curve_fit(func, xdata, ydata)\n",
    "print(popt)"
   ]
  },
  {
   "cell_type": "code",
   "execution_count": 91,
   "metadata": {},
   "outputs": [
    {
     "data": {
      "image/png": "[encoded data removed]",
      "text/plain": [
       "<Figure size 432x288 with 1 Axes>"
      ]
     },
     "metadata": {
      "needs_background": "light"
     },
     "output_type": "display_data"
    }
   ],
   "source": [
    "plt.plot(xdata, ydata, 'b-', label='data')\n",
    "plt.plot(xdata, func(xdata, *popt), 'r-', label='fit')\n",
    "\n",
    "plt.xlabel('x')\n",
    "plt.ylabel('y')\n",
    "plt.legend()\n",
    "plt.show()"
   ]
  },
  {
   "cell_type": "code",
   "execution_count": 94,
   "metadata": {},
   "outputs": [
    {
     "data": {
      "image/png": "[encoded data removed]",
      "text/plain": [
       "<Figure size 432x288 with 1 Axes>"
      ]
     },
     "metadata": {
      "needs_background": "light"
     },
     "output_type": "display_data"
    }
   ],
   "source": [
    "# Constrain the optimization to the region of 0 < a < 3, 0 < b < 2 and 0 < c < 1:\n",
    "\n",
    "popt2, pcov2 = curve_fit(func, xdata, ydata, bounds=([2, 1.9, 0.9], [3., 2., 1.]))\n",
    "plt.plot(xdata, ydata, 'b-', label='data')\n",
    "plt.plot(xdata, func(xdata, *popt), 'r-', label='fit')\n",
    "plt.plot(xdata, func(xdata, *popt2), 'g--', label='fit-with-bounds')\n",
    "\n",
    "plt.xlabel('x')\n",
    "plt.ylabel('y')\n",
    "plt.legend()\n",
    "plt.show()"
   ]
  },
  {
   "cell_type": "markdown",
   "metadata": {},
   "source": [
    "#### Scikit-Learn\n",
    "\n",
    "scikit-learn is machine learning in Python"
   ]
  },
  {
   "cell_type": "code",
   "execution_count": 198,
   "metadata": {},
   "outputs": [
    {
     "name": "stderr",
     "output_type": "stream",
     "text": [
      "C:\\Users\\victo\\Anaconda3\\lib\\site-packages\\matplotlib\\figure.py:457: UserWarning: matplotlib is currently using a non-GUI backend, so cannot show the figure\n",
      "  \"matplotlib is currently using a non-GUI backend, \"\n"
     ]
    },
    {
     "data": {
      "image/png": "[encoded data removed]",
      "text/plain": [
       "<Figure size 288x216 with 1 Axes>"
      ]
     },
     "metadata": {
      "needs_background": "light"
     },
     "output_type": "display_data"
    },
    {
     "data": {
      "image/png": "[encoded data removed]",
      "text/plain": [
       "<Figure size 288x216 with 1 Axes>"
      ]
     },
     "metadata": {
      "needs_background": "light"
     },
     "output_type": "display_data"
    },
    {
     "data": {
      "image/png": "[encoded data removed]",
      "text/plain": [
       "<Figure size 288x216 with 1 Axes>"
      ]
     },
     "metadata": {
      "needs_background": "light"
     },
     "output_type": "display_data"
    },
    {
     "data": {
      "image/png": "[encoded data removed]",
      "text/plain": [
       "<Figure size 288x216 with 1 Axes>"
      ]
     },
     "metadata": {
      "needs_background": "light"
     },
     "output_type": "display_data"
    }
   ],
   "source": [
    "# Code source: Gaël Varoquaux\n",
    "# Modified for documentation by Jaques Grobler\n",
    "# License: BSD 3 clause\n",
    "\n",
    "import numpy as np\n",
    "import matplotlib.pyplot as plt\n",
    "from mpl_toolkits.mplot3d import Axes3D\n",
    "\n",
    "from sklearn.cluster import KMeans\n",
    "from sklearn import datasets\n",
    "\n",
    "np.random.seed(5)\n",
    "\n",
    "iris = datasets.load_iris()\n",
    "X = iris.data\n",
    "y = iris.target\n",
    "\n",
    "estimators = [('k_means_iris_8', KMeans(n_clusters=8)),\n",
    "              ('k_means_iris_3', KMeans(n_clusters=3)),\n",
    "              ('k_means_iris_bad_init', KMeans(n_clusters=3, n_init=1,\n",
    "                                               init='random'))]\n",
    "\n",
    "fignum = 1\n",
    "titles = ['8 clusters', '3 clusters', '3 clusters, bad initialization']\n",
    "for name, est in estimators:\n",
    "    fig = plt.figure(fignum, figsize=(4, 3))\n",
    "    ax = Axes3D(fig, rect=[0, 0, .95, 1], elev=48, azim=134)\n",
    "    est.fit(X)\n",
    "    labels = est.labels_\n",
    "\n",
    "    ax.scatter(X[:, 3], X[:, 0], X[:, 2],\n",
    "               c=labels.astype(np.float), edgecolor='k')\n",
    "\n",
    "    ax.w_xaxis.set_ticklabels([])\n",
    "    ax.w_yaxis.set_ticklabels([])\n",
    "    ax.w_zaxis.set_ticklabels([])\n",
    "    ax.set_xlabel('Petal width')\n",
    "    ax.set_ylabel('Sepal length')\n",
    "    ax.set_zlabel('Petal length')\n",
    "    ax.set_title(titles[fignum - 1])\n",
    "    ax.dist = 12\n",
    "    fignum = fignum + 1\n",
    "\n",
    "# Plot the ground truth\n",
    "fig = plt.figure(fignum, figsize=(4, 3))\n",
    "ax = Axes3D(fig, rect=[0, 0, .95, 1], elev=48, azim=134)\n",
    "\n",
    "for name, label in [('Setosa', 0),\n",
    "                    ('Versicolour', 1),\n",
    "                    ('Virginica', 2)]:\n",
    "    ax.text3D(X[y == label, 3].mean(),\n",
    "              X[y == label, 0].mean(),\n",
    "              X[y == label, 2].mean() + 2, name,\n",
    "              horizontalalignment='center',\n",
    "              bbox=dict(alpha=.2, edgecolor='w', facecolor='w'))\n",
    "\n",
    "y = np.choose(y, [1, 2, 0]).astype(np.float)\n",
    "ax.scatter(X[:, 3], X[:, 0], X[:, 2], c=y, edgecolor='k')\n",
    "\n",
    "ax.w_xaxis.set_ticklabels([])\n",
    "ax.w_yaxis.set_ticklabels([])\n",
    "ax.w_zaxis.set_ticklabels([])\n",
    "ax.set_xlabel('Petal width')\n",
    "ax.set_ylabel('Sepal length')\n",
    "ax.set_zlabel('Petal length')\n",
    "ax.set_title('Ground Truth')\n",
    "ax.dist = 12\n",
    "\n",
    "fig.show()\n"
   ]
  },
  {
   "cell_type": "markdown",
   "metadata": {},
   "source": [
    "# Markdown\n",
    "\n",
    "Markdown cells (Which are the cells in which all these texts are residing) are all extremely useful for making a notebook, clean, and filled with exciting images, tables, bullet points, etc. Some of these skills, like for equations, are also great ways to enhance your plots. To enter into a markdown cell, simply just double click on the cell, or if the cell is already selected, hit enter and you should notice that a lot has changed (tables aren't pretty, links show up, etc.)\n",
    "\n",
    "#### Link Integration\n",
    "\n",
    "To show you how to use link integration, we're going to hyperlink to [Github's Markdown Cheatsheet](https://github.com/adam-p/markdown-here/wiki/Markdown-Cheatsheet)\n",
    "\n",
    "#### Equations\n",
    "\n",
    "Let's write the Nernst Equation, first without any fancy things: E = E0 + RT/nF ln(Red/Ox)\n",
    "\n",
    "Now let's write the Nernst Equation in an actual equation form: $E = E^0 + \\frac{RT}{nF} ln\\frac{[Red]}{[Ox]} $\n",
    "\n",
    "#### Tables\n",
    "\n",
    "|---|  Column 1 |  Column 2 |\n",
    "|---|---|---|\n",
    "| Row 1 | Woo  | Woo 4|\n",
    "| Row 2 | Woo2  | Woo 5|\n",
    "| Row 3 | Woo3  | Woo 6|\n",
    "\n",
    "#### Headers\n",
    "\n",
    "The number of # helps denote the level heading/subheading levels\n",
    "\n",
    "# Heading (1 #)\n",
    "## subheading (2 #)\n",
    "### subheading (3 #)\n",
    "#### subheading (4 #)\n",
    "##### subheading (5 #)\n",
    "###### subheading (6 #)\n",
    "\n",
    "#### Bullet points\n",
    "* Can easily make bullet points\n",
    "    * Can even indent to make more bullet points\n",
    "    \n",
    "#### Image Integration\n",
    "* Very much like link integration if you're choosing to do it from a website.\n",
    "\n",
    "You made it to the end!\n",
    "\n",
    "![alt text](https://media1.tenor.com/images/d8d7b003cc98b44d2a4ca87e27f0c304/tenor.gif?itemid=9499691)"
   ]
  },
  {
   "cell_type": "code",
   "execution_count": null,
   "metadata": {},
   "outputs": [],
   "source": []
  }
 ],
 "metadata": {
  "kernelspec": {
   "display_name": "Python 3",
   "language": "python",
   "name": "python3"
  },
  "language_info": {
   "codemirror_mode": {
    "name": "ipython",
    "version": 3
   },
   "file_extension": ".py",
   "mimetype": "text/x-python",
   "name": "python",
   "nbconvert_exporter": "python",
   "pygments_lexer": "ipython3",
   "version": "3.7.0"
  }
 },
 "nbformat": 4,
 "nbformat_minor": 4
}
