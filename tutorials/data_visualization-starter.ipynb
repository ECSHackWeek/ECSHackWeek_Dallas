{
 "cells": [
  {
   "cell_type": "markdown",
   "metadata": {
    "slideshow": {
     "slide_type": "slide"
    }
   },
   "source": [
    "<center>\n",
    "\n",
    "## Interactive data visualization\n",
    "\n",
    "### ECS Hack Week 2019<br>27 May 2019<br>\n",
    "</center>"
   ]
  },
  {
   "cell_type": "markdown",
   "metadata": {
    "slideshow": {
     "slide_type": "slide"
    }
   },
   "source": [
    "## Schedule\n",
    "[Basic usage (defining data, marks, and encodings)](#Basic-usage-(defining-data,-marks,-and-encodings))\n",
    "\n",
    "[Calculated fields](#Calculated-fields)\n",
    "\n",
    "[Selections (adding interactivity)](#Selections-(adding-interactivity))"
   ]
  },
  {
   "cell_type": "code",
   "execution_count": 1,
   "metadata": {},
   "outputs": [],
   "source": [
    "from utilities import build_dataset\n",
    "\n",
    "data = build_dataset()"
   ]
  },
  {
   "cell_type": "code",
   "execution_count": 2,
   "metadata": {},
   "outputs": [
    {
     "data": {
      "text/html": [
       "<div>\n",
       "<style scoped>\n",
       "    .dataframe tbody tr th:only-of-type {\n",
       "        vertical-align: middle;\n",
       "    }\n",
       "\n",
       "    .dataframe tbody tr th {\n",
       "        vertical-align: top;\n",
       "    }\n",
       "\n",
       "    .dataframe thead th {\n",
       "        text-align: right;\n",
       "    }\n",
       "</style>\n",
       "<table border=\"1\" class=\"dataframe\">\n",
       "  <thead>\n",
       "    <tr style=\"text-align: right;\">\n",
       "      <th></th>\n",
       "      <th>frequencies</th>\n",
       "      <th>z_real</th>\n",
       "      <th>z_imag</th>\n",
       "      <th>test</th>\n",
       "      <th>chem</th>\n",
       "      <th>cell</th>\n",
       "      <th>temp</th>\n",
       "    </tr>\n",
       "  </thead>\n",
       "  <tbody>\n",
       "    <tr>\n",
       "      <th>22</th>\n",
       "      <td>630.9573</td>\n",
       "      <td>0.066520</td>\n",
       "      <td>0.000312</td>\n",
       "      <td>LFP_3_Cycling_25C.txt</td>\n",
       "      <td>LFP</td>\n",
       "      <td>3</td>\n",
       "      <td>25.0</td>\n",
       "    </tr>\n",
       "    <tr>\n",
       "      <th>23</th>\n",
       "      <td>501.1872</td>\n",
       "      <td>0.066876</td>\n",
       "      <td>0.000838</td>\n",
       "      <td>LFP_3_Cycling_25C.txt</td>\n",
       "      <td>LFP</td>\n",
       "      <td>3</td>\n",
       "      <td>25.0</td>\n",
       "    </tr>\n",
       "    <tr>\n",
       "      <th>24</th>\n",
       "      <td>398.1072</td>\n",
       "      <td>0.067235</td>\n",
       "      <td>0.001141</td>\n",
       "      <td>LFP_3_Cycling_25C.txt</td>\n",
       "      <td>LFP</td>\n",
       "      <td>3</td>\n",
       "      <td>25.0</td>\n",
       "    </tr>\n",
       "    <tr>\n",
       "      <th>25</th>\n",
       "      <td>316.2278</td>\n",
       "      <td>0.067527</td>\n",
       "      <td>0.001522</td>\n",
       "      <td>LFP_3_Cycling_25C.txt</td>\n",
       "      <td>LFP</td>\n",
       "      <td>3</td>\n",
       "      <td>25.0</td>\n",
       "    </tr>\n",
       "    <tr>\n",
       "      <th>26</th>\n",
       "      <td>251.1886</td>\n",
       "      <td>0.068049</td>\n",
       "      <td>0.001617</td>\n",
       "      <td>LFP_3_Cycling_25C.txt</td>\n",
       "      <td>LFP</td>\n",
       "      <td>3</td>\n",
       "      <td>25.0</td>\n",
       "    </tr>\n",
       "  </tbody>\n",
       "</table>\n",
       "</div>"
      ],
      "text/plain": [
       "    frequencies    z_real    z_imag                   test chem cell  temp\n",
       "22     630.9573  0.066520  0.000312  LFP_3_Cycling_25C.txt  LFP    3  25.0\n",
       "23     501.1872  0.066876  0.000838  LFP_3_Cycling_25C.txt  LFP    3  25.0\n",
       "24     398.1072  0.067235  0.001141  LFP_3_Cycling_25C.txt  LFP    3  25.0\n",
       "25     316.2278  0.067527  0.001522  LFP_3_Cycling_25C.txt  LFP    3  25.0\n",
       "26     251.1886  0.068049  0.001617  LFP_3_Cycling_25C.txt  LFP    3  25.0"
      ]
     },
     "execution_count": 2,
     "metadata": {},
     "output_type": "execute_result"
    }
   ],
   "source": [
    "data.head()"
   ]
  },
  {
   "cell_type": "code",
   "execution_count": null,
   "metadata": {},
   "outputs": [],
   "source": []
  }
 ],
 "metadata": {
  "kernelspec": {
   "display_name": "Python 3",
   "language": "python",
   "name": "python3"
  },
  "language_info": {
   "codemirror_mode": {
    "name": "ipython",
    "version": 3
   },
   "file_extension": ".py",
   "mimetype": "text/x-python",
   "name": "python",
   "nbconvert_exporter": "python",
   "pygments_lexer": "ipython3",
   "version": "3.7.3"
  }
 },
 "nbformat": 4,
 "nbformat_minor": 4
}
