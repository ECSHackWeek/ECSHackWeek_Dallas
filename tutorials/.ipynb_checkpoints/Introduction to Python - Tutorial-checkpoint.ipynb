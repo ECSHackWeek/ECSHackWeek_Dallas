{
 "cells": [
  {
   "cell_type": "markdown",
   "metadata": {},
   "source": [
    "# Introduction to Python through Jupyter Lab"
   ]
  },
  {
   "cell_type": "markdown",
   "metadata": {},
   "source": [
    "Welcome to  your Jupyter notebook!\n",
    "\n",
    "![alt text](https://www.python.org/static/community_logos/python-logo-generic.svg)\n"
   ]
  },
  {
   "cell_type": "markdown",
   "metadata": {},
   "source": [
    "#### Structure of how a Jupyter Notebook works\n",
    "\n",
    "![alt text](https://jupyter.org/assets/main-logo.svg)\n",
    "\n",
    "* Jupyter notebooks run one cell at a line, and if you hit \"run all\", it will be sequential\n",
    "* There are two cell types\n",
    "    * code cells\n",
    "    * markdown cells\n",
    "* Lines can be commented out in code cells using #\n",
    "    * Adding comments into code cells helps you remember what you're doing!\n",
    "* To start clean, or if something goes awry, simply restart your kernel"
   ]
  },
  {
   "cell_type": "markdown",
   "metadata": {},
   "source": [
    "| Keyboard Shortcut | Action|\n",
    "| --- | ---|\n",
    "| a | insert cell above |\n",
    "| b | insert cell below |\n",
    "| l | shows lines of code in a cell |\n",
    "| m | changes cell to a markdown cell |\n",
    "| y | changes cell to a code cell |\n",
    "| esc | exits cell |\n",
    "| dd or x | delete cell |\n",
    "| z | undelete cell |\n",
    "| h | list of stortcuts |\n",
    "| shift + enter | runs cell |\n",
    "| tab | indent |\n",
    "| shift + tab | remove an indent|\n",
    "| highlight, ctrl + / | comment sections out |"
   ]
  },
  {
   "cell_type": "markdown",
   "metadata": {},
   "source": [
    "Try out some of these shortcuts to get the hang of it!"
   ]
  },
  {
   "cell_type": "code",
   "execution_count": null,
   "metadata": {},
   "outputs": [],
   "source": []
  },
  {
   "cell_type": "code",
   "execution_count": null,
   "metadata": {},
   "outputs": [],
   "source": []
  },
  {
   "cell_type": "markdown",
   "metadata": {},
   "source": [
    "#### Different structures in Python"
   ]
  },
  {
   "cell_type": "markdown",
   "metadata": {},
   "source": [
    "Numbers vs Strings\n",
    "\n",
    "Numbers come in multiple forms, the most common ones you'll encounter are floats and integers. \n",
    "* Integers: Whole numbers\n",
    "* Floats: Have decimal points \n",
    "    * 3 vs 3.0\n",
    "\n",
    "Strings are essentially just text. We can choose to use strings by putting something in '' or \"\".\n",
    "* Either options work, but if you are printing a statement with a contraction (i.e. it's), then you can use \"\" for clarity"
   ]
  },
  {
   "cell_type": "markdown",
   "metadata": {},
   "source": [
    "Jupyter notebooks will show you only the last command if it's not assigned to a variable."
   ]
  },
  {
   "cell_type": "code",
   "execution_count": null,
   "metadata": {},
   "outputs": [],
   "source": []
  },
  {
   "cell_type": "markdown",
   "metadata": {},
   "source": [
    "However, we can use print() to read more things. This can be useful in future coding, when you want to present more than one result out of the same cell."
   ]
  },
  {
   "cell_type": "code",
   "execution_count": null,
   "metadata": {},
   "outputs": [],
   "source": []
  },
  {
   "cell_type": "markdown",
   "metadata": {},
   "source": [
    "We can check what type of data structure something is pretty easily."
   ]
  },
  {
   "cell_type": "code",
   "execution_count": null,
   "metadata": {},
   "outputs": [],
   "source": []
  },
  {
   "cell_type": "markdown",
   "metadata": {},
   "source": [
    "Python can also perform basic math operations"
   ]
  },
  {
   "cell_type": "markdown",
   "metadata": {},
   "source": []
  },
  {
   "cell_type": "markdown",
   "metadata": {},
   "source": []
  },
  {
   "cell_type": "markdown",
   "metadata": {},
   "source": []
  },
  {
   "cell_type": "markdown",
   "metadata": {},
   "source": []
  },
  {
   "cell_type": "markdown",
   "metadata": {},
   "source": []
  },
  {
   "cell_type": "markdown",
   "metadata": {},
   "source": [
    "#### String Manipulation (Move this into list section)"
   ]
  },
  {
   "cell_type": "markdown",
   "metadata": {},
   "source": []
  },
  {
   "cell_type": "markdown",
   "metadata": {},
   "source": []
  },
  {
   "cell_type": "markdown",
   "metadata": {},
   "source": [
    "#### Variable Assignment\n",
    "\n",
    "We can also assign any data structure to specific variables too. Some things to consider\n",
    "* Variables are case-sensitive\n",
    "* Cannot accommodate spaces\n",
    "* Try to avoid capital letters\n",
    "* Don't avoid cAmElCaSe"
   ]
  },
  {
   "cell_type": "code",
   "execution_count": null,
   "metadata": {},
   "outputs": [],
   "source": []
  },
  {
   "cell_type": "code",
   "execution_count": null,
   "metadata": {},
   "outputs": [],
   "source": []
  },
  {
   "cell_type": "code",
   "execution_count": null,
   "metadata": {},
   "outputs": [],
   "source": []
  },
  {
   "cell_type": "markdown",
   "metadata": {},
   "source": [
    "#### Basic Data Structures\n",
    "* The three major data structures that we will be going over\n",
    "\n",
    "| word | definition |\n",
    "|------|------------|\n",
    "| list | A mutable collection of ordered objects |\n",
    "| tuple | An immutable collection of ordered objects |\n",
    "| dictionary | A mutable collection of named objects |\n"
   ]
  },
  {
   "cell_type": "markdown",
   "metadata": {},
   "source": [
    "#### List Comprehension\n",
    "\n",
    "Lists are ordered data structures, meaning that the placement or index is important. Lists can hold multiple different types of data structures, and are also mutable, meaning that they can be changed. You can also splice through lists"
   ]
  },
  {
   "cell_type": "code",
   "execution_count": null,
   "metadata": {},
   "outputs": [],
   "source": []
  },
  {
   "cell_type": "code",
   "execution_count": null,
   "metadata": {},
   "outputs": [],
   "source": []
  },
  {
   "cell_type": "code",
   "execution_count": null,
   "metadata": {},
   "outputs": [],
   "source": []
  },
  {
   "cell_type": "code",
   "execution_count": null,
   "metadata": {},
   "outputs": [],
   "source": []
  },
  {
   "cell_type": "code",
   "execution_count": null,
   "metadata": {},
   "outputs": [],
   "source": []
  },
  {
   "cell_type": "code",
   "execution_count": null,
   "metadata": {},
   "outputs": [],
   "source": []
  },
  {
   "cell_type": "code",
   "execution_count": null,
   "metadata": {},
   "outputs": [],
   "source": []
  },
  {
   "cell_type": "code",
   "execution_count": null,
   "metadata": {},
   "outputs": [],
   "source": []
  },
  {
   "cell_type": "markdown",
   "metadata": {},
   "source": [
    "There are other useful methods on lists, including:\n",
    "\n",
    "| methods  |  description  |\n",
    "|---|---|\n",
    "| list.append(obj)  | Appends object obj to list  |\n",
    "| list.count(obj)| Returns count of how many times obj occurs in list  |\n",
    "| list.extend(seq)  | Appends the contents of seq to list  |\n",
    "| list.index(obj)  | Returns the lowest index in list that obj appears  |\n",
    "| list.insert(index, obj)  | Inserts object obj into list at offset index  |\n",
    "| list.pop(obj=list[-1])  | Removes and returns last object or obj from list  |\n",
    "| list.remove(obj)  | Removes object obj from list  |\n",
    "| list.reverse()  |  Reverses objects of list in place |\n",
    "| list.sort([func])  | Sort objects of list, use compare func, if given  |\n"
   ]
  },
  {
   "cell_type": "markdown",
   "metadata": {},
   "source": [
    "Here is a list for you to play with. Try out some of these methods, and just get the hang of using some lists!"
   ]
  },
  {
   "cell_type": "markdown",
   "metadata": {},
   "source": [
    "#### Tuples Comprehension"
   ]
  },
  {
   "cell_type": "code",
   "execution_count": null,
   "metadata": {},
   "outputs": [],
   "source": []
  },
  {
   "cell_type": "code",
   "execution_count": null,
   "metadata": {},
   "outputs": [],
   "source": []
  },
  {
   "cell_type": "code",
   "execution_count": null,
   "metadata": {},
   "outputs": [],
   "source": []
  },
  {
   "cell_type": "markdown",
   "metadata": {},
   "source": [
    "#### Dictionary Comprehesion\n",
    "\n",
    "A dictionary is another type of storage, which is unordered and based off `keys` and `values` , and these are made using curly brackets {}. Each `value` must be assigned to a `key`"
   ]
  },
  {
   "cell_type": "code",
   "execution_count": null,
   "metadata": {},
   "outputs": [],
   "source": []
  },
  {
   "cell_type": "code",
   "execution_count": null,
   "metadata": {},
   "outputs": [],
   "source": []
  },
  {
   "cell_type": "code",
   "execution_count": null,
   "metadata": {},
   "outputs": [],
   "source": []
  },
  {
   "cell_type": "code",
   "execution_count": null,
   "metadata": {},
   "outputs": [],
   "source": []
  },
  {
   "cell_type": "code",
   "execution_count": null,
   "metadata": {},
   "outputs": [],
   "source": []
  },
  {
   "cell_type": "code",
   "execution_count": null,
   "metadata": {},
   "outputs": [],
   "source": []
  },
  {
   "cell_type": "code",
   "execution_count": null,
   "metadata": {},
   "outputs": [],
   "source": []
  },
  {
   "cell_type": "code",
   "execution_count": null,
   "metadata": {},
   "outputs": [],
   "source": []
  },
  {
   "cell_type": "code",
   "execution_count": null,
   "metadata": {},
   "outputs": [],
   "source": []
  },
  {
   "cell_type": "code",
   "execution_count": null,
   "metadata": {},
   "outputs": [],
   "source": []
  },
  {
   "cell_type": "markdown",
   "metadata": {},
   "source": [
    "| methods  |  description  |\n",
    "|---|---|\n",
    "| dict.clear() | Removes all elements from dict |\n",
    "| dict.get(key, default=None) | For ``key`` key, returns value or ``default`` if key doesn't exist in dict | \n",
    "| dict.items() | Returns a list of dicts (key, value) tuple pairs | \n",
    "| dict.keys() | Returns a list of dictionary keys |\n",
    "| dict.setdefault(key, default=None) | Similar to get, but set the value of key if it doesn't exist in dict |\n",
    "| dict.update(dict2) | Add the key / value pairs in dict2 to dict |\n",
    "| dict.values() | Returns a list of dictionary values|"
   ]
  },
  {
   "cell_type": "markdown",
   "metadata": {},
   "source": [
    "Notice how we were able to put a list, tuple, and another dictionary into our first dictionary?\n",
    "\n",
    "How would you use `d3` from our examples above to access 2, 5, and item2?"
   ]
  },
  {
   "cell_type": "code",
   "execution_count": null,
   "metadata": {},
   "outputs": [],
   "source": []
  },
  {
   "cell_type": "markdown",
   "metadata": {},
   "source": [
    "#### How would i combine d and d2 into one single dictionary?"
   ]
  },
  {
   "cell_type": "code",
   "execution_count": null,
   "metadata": {},
   "outputs": [],
   "source": []
  },
  {
   "cell_type": "code",
   "execution_count": null,
   "metadata": {},
   "outputs": [],
   "source": []
  },
  {
   "cell_type": "markdown",
   "metadata": {},
   "source": [
    "## Take a short break\n",
    "\n",
    "Play around with any of the data types for now, get coffee, or whatever else you need"
   ]
  },
  {
   "cell_type": "markdown",
   "metadata": {},
   "source": [
    "#### Comparison and Logic Operators\n",
    "\n",
    "Below are some common operators that you may find useful in Python.\n",
    "\n",
    "* '>'\n",
    "* '>='\n",
    "* <\n",
    "* <=\n",
    "* ==\n",
    "* !=\n",
    "* and / or\n",
    "\n",
    "If we use any of these operators in Python code, the result will be either `True` or `False`"
   ]
  },
  {
   "cell_type": "code",
   "execution_count": null,
   "metadata": {},
   "outputs": [],
   "source": []
  },
  {
   "cell_type": "code",
   "execution_count": null,
   "metadata": {},
   "outputs": [],
   "source": []
  },
  {
   "cell_type": "code",
   "execution_count": null,
   "metadata": {},
   "outputs": [],
   "source": []
  },
  {
   "cell_type": "code",
   "execution_count": null,
   "metadata": {},
   "outputs": [],
   "source": []
  },
  {
   "cell_type": "code",
   "execution_count": null,
   "metadata": {},
   "outputs": [],
   "source": []
  },
  {
   "cell_type": "code",
   "execution_count": null,
   "metadata": {},
   "outputs": [],
   "source": []
  },
  {
   "cell_type": "code",
   "execution_count": null,
   "metadata": {},
   "outputs": [],
   "source": []
  },
  {
   "cell_type": "code",
   "execution_count": null,
   "metadata": {},
   "outputs": [],
   "source": []
  },
  {
   "cell_type": "markdown",
   "metadata": {},
   "source": [
    "<hr>\n",
    "## Flow control\n",
    "\n",
    "<img src=\"https://docs.oracle.com/cd/B19306_01/appdev.102/b14261/lnpls008.gif\">\n",
    "\n",
    "Flow control refers how to programs do loops, conditional execution, and order of functional operations.  Let's start with conditionals, or the venerable ``if`` statement.\n"
   ]
  },
  {
   "cell_type": "markdown",
   "metadata": {},
   "source": [
    "We can use `if/else` statements as ways of separating different pathways in our flow"
   ]
  },
  {
   "cell_type": "code",
   "execution_count": 58,
   "metadata": {},
   "outputs": [],
   "source": [
    "instructors = ['Erica', 'Matt', 'Dave', 'Chad', 'JoeSchmoe']"
   ]
  },
  {
   "cell_type": "code",
   "execution_count": null,
   "metadata": {},
   "outputs": [],
   "source": []
  },
  {
   "cell_type": "code",
   "execution_count": null,
   "metadata": {},
   "outputs": [],
   "source": []
  },
  {
   "cell_type": "code",
   "execution_count": null,
   "metadata": {},
   "outputs": [],
   "source": []
  },
  {
   "cell_type": "markdown",
   "metadata": {},
   "source": [
    "Using our knowledge of list comprehension, can you use the following instructors list to check if \"Victor\" is in the instructor list, and then using if/else statements, add it in if it's present?"
   ]
  },
  {
   "cell_type": "code",
   "execution_count": 1,
   "metadata": {},
   "outputs": [],
   "source": [
    "instructors = ['Erica', 'Matt', 'Dave', 'Chad']"
   ]
  },
  {
   "cell_type": "markdown",
   "metadata": {},
   "source": [
    "You can also have multiple 'if' statements through `elif`"
   ]
  },
  {
   "cell_type": "markdown",
   "metadata": {},
   "source": [
    "#### For and While Loops\n",
    "\n",
    "* Can iterate through lists\n",
    "* Can iterate through ranges\n",
    "* Can get stuck in an infinite while loop\n",
    "* pass / continue / break\n",
    "* Nesting for loops / while loops"
   ]
  },
  {
   "cell_type": "code",
   "execution_count": null,
   "metadata": {},
   "outputs": [],
   "source": []
  },
  {
   "cell_type": "code",
   "execution_count": null,
   "metadata": {},
   "outputs": [],
   "source": []
  },
  {
   "cell_type": "code",
   "execution_count": null,
   "metadata": {},
   "outputs": [],
   "source": []
  },
  {
   "cell_type": "markdown",
   "metadata": {},
   "source": [
    "Let's write two separate for loops, each with an `if` condition at  `i == 5`, and see what happens if we choose pass vs continue in our `if`"
   ]
  },
  {
   "cell_type": "code",
   "execution_count": null,
   "metadata": {},
   "outputs": [],
   "source": []
  },
  {
   "cell_type": "markdown",
   "metadata": {},
   "source": [
    "Write a for loop that runs and continues the Fibonacci sequence for the next 10 numbers if we start with the first five numbers.\n",
    "\n",
    "[1, 1, 2, 3, 5]"
   ]
  },
  {
   "cell_type": "code",
   "execution_count": 2,
   "metadata": {},
   "outputs": [],
   "source": [
    "fib = [1, 1, 2, 3, 5]"
   ]
  },
  {
   "cell_type": "code",
   "execution_count": 3,
   "metadata": {},
   "outputs": [],
   "source": [
    "# We can also break for loops early if a certain condition is met\n",
    "\n",
    "fib = [1, 1, 2, 3, 5]"
   ]
  },
  {
   "cell_type": "code",
   "execution_count": null,
   "metadata": {},
   "outputs": [],
   "source": []
  },
  {
   "cell_type": "markdown",
   "metadata": {},
   "source": [
    "Given this list of names, iterate through each entry, and create a new list with just the names (no positions)"
   ]
  },
  {
   "cell_type": "code",
   "execution_count": 5,
   "metadata": {},
   "outputs": [],
   "source": [
    "positions = ['Jess[manager]', 'Harry[PR]', 'Jenny[Scientist]', 'Cory[HR]']"
   ]
  },
  {
   "cell_type": "code",
   "execution_count": null,
   "metadata": {},
   "outputs": [],
   "source": []
  },
  {
   "cell_type": "markdown",
   "metadata": {},
   "source": [
    "You can also use while loops to accomplish a lot of these same goals, just be careful not to get stuck in an infinite while loop!"
   ]
  },
  {
   "cell_type": "code",
   "execution_count": null,
   "metadata": {},
   "outputs": [],
   "source": []
  },
  {
   "cell_type": "markdown",
   "metadata": {},
   "source": [
    "#### Functions\n",
    "\n",
    "We can modulize different components of our analysis by using self-built functions! These include components such as\n",
    "\n",
    "* input variables\n",
    "* return\n",
    "* docstring"
   ]
  },
  {
   "cell_type": "markdown",
   "metadata": {},
   "source": [
    "Variables have scope: `global` and `local`\n",
    "\n",
    "In a function, new variables that you create are not saved when the function returns - these are `local` variables.  Variables defined outside of the function can be accessed but not changed - these are `global` variables, _Note_ there is a way to do this with the `global` keyword.  Generally, the use of `global` variables is not encouraged, instead use parameters.\n",
    "\n",
    "```\n",
    "my_global_1 = 'bad idea'\n",
    "my_global_2 = 'another bad one'\n",
    "my_global_3 = 'better idea'\n",
    "\n",
    "def my_function():\n",
    "    print(my_global_1)\n",
    "    my_global_2 = 'broke your global, man!'\n",
    "    global my_global_3\n",
    "    my_global_3 = 'still a better idea'\n",
    "    return\n",
    "    \n",
    "my_function()\n",
    "print(my_global_2)\n",
    "print(my_global_3)\n",
    "```"
   ]
  },
  {
   "cell_type": "code",
   "execution_count": 16,
   "metadata": {},
   "outputs": [],
   "source": [
    "def print_name_age():\n",
    "    return"
   ]
  },
  {
   "cell_type": "markdown",
   "metadata": {},
   "source": [
    "### Parameters have four different types:\n",
    "\n",
    "| type | behavior |\n",
    "|------|----------|\n",
    "| required | positional, must be present or error, e.g. `my_func(first_name, last_name)` |\n",
    "| keyword | position independent, e.g. `my_func(first_name, last_name)` can be called `my_func(first_name='Dave', last_name='Beck')` or `my_func(last_name='Beck', first_name='Dave')` |\n",
    "| default | keyword params that default to a value if not provided |\n"
   ]
  },
  {
   "cell_type": "code",
   "execution_count": 17,
   "metadata": {},
   "outputs": [],
   "source": [
    "def print_name(first, last='Smith'):\n",
    "    print('Your name is %s %s' % (first, last))\n",
    "    return"
   ]
  },
  {
   "cell_type": "markdown",
   "metadata": {},
   "source": [
    "Write a function that can detect if the word 'cat' is in the following sentence. If there are multiple 'cat' appearances, can you get your function to count it?"
   ]
  },
  {
   "cell_type": "code",
   "execution_count": 15,
   "metadata": {},
   "outputs": [],
   "source": [
    "sentence_1 = 'This cat sure does have cat like reflexes'\n",
    "sentence_2 = 'This dog is nothing like that cat I use to have'\n",
    "sentence_3 = 'Unpopular opinion to some: dogs are superior'"
   ]
  },
  {
   "cell_type": "code",
   "execution_count": null,
   "metadata": {},
   "outputs": [],
   "source": [
    "def findCat(string):\n",
    "    return"
   ]
  },
  {
   "cell_type": "code",
   "execution_count": null,
   "metadata": {},
   "outputs": [],
   "source": [
    "findCat(sentence_1)"
   ]
  },
  {
   "cell_type": "markdown",
   "metadata": {},
   "source": [
    "Let's bring some math into this! Write a function that solves for the equation\n",
    "\n",
    "$ y = ax^{2} + bx + c $\n",
    "\n",
    "And then use that function to iterate and solve that function using for for x = 0 to x = 10?"
   ]
  },
  {
   "cell_type": "code",
   "execution_count": 21,
   "metadata": {},
   "outputs": [],
   "source": [
    "def quadratic_eqt(a, b, c, x):\n",
    "    '''\n",
    "    Following the form ax^2 + bx + c\n",
    "    '''\n",
    "    return"
   ]
  },
  {
   "cell_type": "markdown",
   "metadata": {},
   "source": [
    "## Packages and Modules\n",
    "\n",
    "Package\n",
    "\n",
    "A package is just a way of collecting related modules together within a single tree-like hierarchy. Very complex packages like NumPy or SciPy have hundreds of individual modules so putting them into a directory-like structure keeps things organized and avoids name collisions. For example here is a partial list of sub-packages available within SciPy\n",
    "[link](https://python4astronomers.github.io/installation/packages.html)\n",
    "\n",
    "Module\n",
    "\n",
    "A module is simply a file containing Python definitions, functions, and statements. Putting code into modules is useful because of the ability to import the module functionality into your script or IPython session,\n",
    "\n",
    "* Can rename packages and modules when you import them in\n",
    "\n",
    "Common abbreviations (will find a lot in forums / help sessions)\n",
    "* numpy : np\n",
    "* matplotlib.pyplot : plt\n",
    "* pandas : pd\n",
    "* seaborn : sns\n",
    "* scikit-learn : sklearn\n",
    "\n",
    "Any packages or modules that cannot be found?\n",
    "* Try and make sure you're in the right environment\n",
    "* Conda or pip install\n",
    "    * Difference between Conda and PIP Install"
   ]
  },
  {
   "cell_type": "code",
   "execution_count": 8,
   "metadata": {},
   "outputs": [],
   "source": [
    "# Importing packages"
   ]
  },
  {
   "cell_type": "markdown",
   "metadata": {},
   "source": [
    "#### Individual Package Exploration\n",
    "\n",
    "* In first package, bring up tab completion\n",
    "* Bring up Shift + Tab to look up docstrings and inputs\n",
    "* When applying a package's tools to something, can be\n",
    "    * variable.tool\n",
    "    * package.tool \n",
    "\n",
    "i.e.\n",
    "\n",
    "```\n",
    "my_variable = np.linspace(0,1,11)\n",
    "my_variable.sum() or np.sum(my_variable)\n",
    "```"
   ]
  },
  {
   "cell_type": "markdown",
   "metadata": {},
   "source": [
    "#### Pandas\n",
    "\n",
    "Python Data Analysis Library (http://pandas.pydata.org/)\n",
    "\n",
    "Amazingly useful library for importing, manipulating, cleaning data from a wide variety of sources"
   ]
  },
  {
   "cell_type": "code",
   "execution_count": 9,
   "metadata": {},
   "outputs": [],
   "source": [
    "# import the pandas package\n",
    "import pandas as pd\n",
    "\n",
    "# read in the data from our file\n",
    "file_location = 'https://raw.githubusercontent.com/mdmurbach/ECS-Hack-Day-2017/master/time-data(833).txt?raw=true'"
   ]
  },
  {
   "cell_type": "code",
   "execution_count": null,
   "metadata": {},
   "outputs": [],
   "source": []
  },
  {
   "cell_type": "code",
   "execution_count": null,
   "metadata": {},
   "outputs": [],
   "source": []
  },
  {
   "cell_type": "code",
   "execution_count": null,
   "metadata": {},
   "outputs": [],
   "source": []
  },
  {
   "cell_type": "markdown",
   "metadata": {},
   "source": [
    "#### Matplotlib (Plotting)\n",
    "\n",
    "Matplotlib is a powerful Python plotting library and forms the basis for many other plotting libraries\n",
    "\n",
    "Simple to use simply, but a LOT of low-level control if you want it…\n",
    "\n",
    "Add resources for some of these low-level controls (titles, legends, axes, scientific notation)"
   ]
  },
  {
   "cell_type": "code",
   "execution_count": 10,
   "metadata": {},
   "outputs": [],
   "source": [
    "# import the matplotlib package\n",
    "import matplotlib.pyplot as plt"
   ]
  },
  {
   "cell_type": "code",
   "execution_count": null,
   "metadata": {},
   "outputs": [],
   "source": []
  },
  {
   "cell_type": "code",
   "execution_count": null,
   "metadata": {},
   "outputs": [],
   "source": []
  },
  {
   "cell_type": "code",
   "execution_count": null,
   "metadata": {},
   "outputs": [],
   "source": []
  },
  {
   "cell_type": "markdown",
   "metadata": {},
   "source": [
    "#### Numpy\n",
    "\n",
    "NumPy a very useful library for scientific computing. It adds support for arrays, linear algebra tools and optimized integration with C/Fortran\n",
    "\n",
    "Used by many, many other numerical/scientific computing packages"
   ]
  },
  {
   "cell_type": "code",
   "execution_count": 11,
   "metadata": {},
   "outputs": [],
   "source": [
    "import numpy as np"
   ]
  },
  {
   "cell_type": "code",
   "execution_count": null,
   "metadata": {},
   "outputs": [],
   "source": []
  },
  {
   "cell_type": "code",
   "execution_count": null,
   "metadata": {},
   "outputs": [],
   "source": []
  },
  {
   "cell_type": "code",
   "execution_count": null,
   "metadata": {},
   "outputs": [],
   "source": []
  },
  {
   "cell_type": "markdown",
   "metadata": {},
   "source": [
    "#### Scipy\n",
    "\n",
    "SciPy is a collection of open-source Python libraries for mathematics, science, and engineering\n",
    "\n",
    "Contains many useful tools for optimization, signal processing, curve fitting\n",
    "\n",
    "Tip: SciPy can be on the more difficult side to install due to all of the C dependencies. Highly recommended to use Conda as a package management tool"
   ]
  },
  {
   "cell_type": "code",
   "execution_count": 12,
   "metadata": {},
   "outputs": [],
   "source": [
    "import numpy as np\n",
    "import matplotlib.pyplot as plt\n",
    "from scipy.optimize import curve_fit"
   ]
  },
  {
   "cell_type": "markdown",
   "metadata": {},
   "source": [
    "#### Scikit-Learn\n",
    "\n",
    "scikit-learn is machine learning in Python"
   ]
  },
  {
   "cell_type": "code",
   "execution_count": 13,
   "metadata": {},
   "outputs": [
    {
     "name": "stderr",
     "output_type": "stream",
     "text": [
      "C:\\Users\\victo\\Anaconda3\\lib\\site-packages\\matplotlib\\figure.py:457: UserWarning: matplotlib is currently using a non-GUI backend, so cannot show the figure\n",
      "  \"matplotlib is currently using a non-GUI backend, \"\n"
     ]
    },
    {
     "data": {
      "image/png": "[encoded data removed]",
      "text/plain": [
       "<Figure size 288x216 with 1 Axes>"
      ]
     },
     "metadata": {
      "needs_background": "light"
     },
     "output_type": "display_data"
    },
    {
     "data": {
      "image/png": "[encoded data removed]",
      "text/plain": [
       "<Figure size 288x216 with 1 Axes>"
      ]
     },
     "metadata": {
      "needs_background": "light"
     },
     "output_type": "display_data"
    },
    {
     "data": {
      "image/png": "[encoded data removed]",
      "text/plain": [
       "<Figure size 288x216 with 1 Axes>"
      ]
     },
     "metadata": {
      "needs_background": "light"
     },
     "output_type": "display_data"
    },
    {
     "data": {
      "image/png": "[encoded data removed]",
      "text/plain": [
       "<Figure size 288x216 with 1 Axes>"
      ]
     },
     "metadata": {
      "needs_background": "light"
     },
     "output_type": "display_data"
    }
   ],
   "source": [
    "# Code source: Gaël Varoquaux\n",
    "# Modified for documentation by Jaques Grobler\n",
    "# License: BSD 3 clause\n",
    "\n",
    "import numpy as np\n",
    "import matplotlib.pyplot as plt\n",
    "from mpl_toolkits.mplot3d import Axes3D\n",
    "\n",
    "from sklearn.cluster import KMeans\n",
    "from sklearn import datasets\n",
    "\n",
    "np.random.seed(5)\n",
    "\n",
    "iris = datasets.load_iris()\n",
    "X = iris.data\n",
    "y = iris.target\n",
    "\n",
    "estimators = [('k_means_iris_8', KMeans(n_clusters=8)),\n",
    "              ('k_means_iris_3', KMeans(n_clusters=3)),\n",
    "              ('k_means_iris_bad_init', KMeans(n_clusters=3, n_init=1,\n",
    "                                               init='random'))]\n",
    "\n",
    "fignum = 1\n",
    "titles = ['8 clusters', '3 clusters', '3 clusters, bad initialization']\n",
    "for name, est in estimators:\n",
    "    fig = plt.figure(fignum, figsize=(4, 3))\n",
    "    ax = Axes3D(fig, rect=[0, 0, .95, 1], elev=48, azim=134)\n",
    "    est.fit(X)\n",
    "    labels = est.labels_\n",
    "\n",
    "    ax.scatter(X[:, 3], X[:, 0], X[:, 2],\n",
    "               c=labels.astype(np.float), edgecolor='k')\n",
    "\n",
    "    ax.w_xaxis.set_ticklabels([])\n",
    "    ax.w_yaxis.set_ticklabels([])\n",
    "    ax.w_zaxis.set_ticklabels([])\n",
    "    ax.set_xlabel('Petal width')\n",
    "    ax.set_ylabel('Sepal length')\n",
    "    ax.set_zlabel('Petal length')\n",
    "    ax.set_title(titles[fignum - 1])\n",
    "    ax.dist = 12\n",
    "    fignum = fignum + 1\n",
    "\n",
    "# Plot the ground truth\n",
    "fig = plt.figure(fignum, figsize=(4, 3))\n",
    "ax = Axes3D(fig, rect=[0, 0, .95, 1], elev=48, azim=134)\n",
    "\n",
    "for name, label in [('Setosa', 0),\n",
    "                    ('Versicolour', 1),\n",
    "                    ('Virginica', 2)]:\n",
    "    ax.text3D(X[y == label, 3].mean(),\n",
    "              X[y == label, 0].mean(),\n",
    "              X[y == label, 2].mean() + 2, name,\n",
    "              horizontalalignment='center',\n",
    "              bbox=dict(alpha=.2, edgecolor='w', facecolor='w'))\n",
    "\n",
    "y = np.choose(y, [1, 2, 0]).astype(np.float)\n",
    "ax.scatter(X[:, 3], X[:, 0], X[:, 2], c=y, edgecolor='k')\n",
    "\n",
    "ax.w_xaxis.set_ticklabels([])\n",
    "ax.w_yaxis.set_ticklabels([])\n",
    "ax.w_zaxis.set_ticklabels([])\n",
    "ax.set_xlabel('Petal width')\n",
    "ax.set_ylabel('Sepal length')\n",
    "ax.set_zlabel('Petal length')\n",
    "ax.set_title('Ground Truth')\n",
    "ax.dist = 12\n",
    "\n",
    "fig.show()\n"
   ]
  },
  {
   "cell_type": "markdown",
   "metadata": {},
   "source": [
    "# Markdown\n",
    "\n",
    "Markdown cells (Which are the cells in which all these texts are residing) are all extremely useful for making a notebook, clean, and filled with exciting images, tables, bullet points, etc. Some of these skills, like for equations, are also great ways to enhance your plots. To enter into a markdown cell, simply just double click on the cell, or if the cell is already selected, hit enter and you should notice that a lot has changed (tables aren't pretty, links show up, etc.)\n",
    "\n",
    "#### Link Integration\n",
    "\n",
    "To show you how to use link integration, we're going to hyperlink to [Github's Markdown Cheatsheet](https://github.com/adam-p/markdown-here/wiki/Markdown-Cheatsheet)\n",
    "\n",
    "#### Equations\n",
    "\n",
    "Let's write the Nernst Equation, first without any fancy things: E = E0 + RT/nF ln(Red/Ox)\n",
    "\n",
    "Now let's write the Nernst Equation in an actual equation form: $E = E^0 + \\frac{RT}{nF} ln\\frac{[Red]}{[Ox]} $\n",
    "\n",
    "#### Tables\n",
    "\n",
    "|---|  Column 1 |  Column 2 |\n",
    "|---|---|---|\n",
    "| Row 1 | Woo  | Woo 4|\n",
    "| Row 2 | Woo2  | Woo 5|\n",
    "| Row 3 | Woo3  | Woo 6|\n",
    "\n",
    "#### Headers\n",
    "\n",
    "The number of # helps denote the level heading/subheading levels\n",
    "\n",
    "# Heading (1 #)\n",
    "## subheading (2 #)\n",
    "### subheading (3 #)\n",
    "#### subheading (4 #)\n",
    "##### subheading (5 #)\n",
    "###### subheading (6 #)\n",
    "\n",
    "#### Bullet points\n",
    "* Can easily make bullet points\n",
    "    * Can even indent to make more bullet points\n",
    "    \n",
    "#### Image Integration\n",
    "* Very much like link integration if you're choosing to do it from a website.\n",
    "\n",
    "You made it to the end!\n",
    "\n",
    "![alt text](https://media1.tenor.com/images/d8d7b003cc98b44d2a4ca87e27f0c304/tenor.gif?itemid=9499691)"
   ]
  },
  {
   "cell_type": "code",
   "execution_count": null,
   "metadata": {},
   "outputs": [],
   "source": []
  }
 ],
 "metadata": {
  "kernelspec": {
   "display_name": "Python 3",
   "language": "python",
   "name": "python3"
  },
  "language_info": {
   "codemirror_mode": {
    "name": "ipython",
    "version": 3
   },
   "file_extension": ".py",
   "mimetype": "text/x-python",
   "name": "python",
   "nbconvert_exporter": "python",
   "pygments_lexer": "ipython3",
   "version": "3.7.0"
  }
 },
 "nbformat": 4,
 "nbformat_minor": 2
}
